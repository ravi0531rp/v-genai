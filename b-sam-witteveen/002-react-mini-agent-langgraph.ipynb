{
  "cells": [
    {
      "cell_type": "code",
      "execution_count": null,
      "metadata": {
        "colab": {
          "base_uri": "https://localhost:8080/"
        },
        "id": "dVYp7LLzhDDM",
        "outputId": "a2ed847b-8db4-40aa-c5cf-a2f7f5a15d85"
      },
      "outputs": [
        {
          "name": "stdout",
          "output_type": "stream",
          "text": [
            "\u001b[2K     \u001b[90m━━━━━━━━━━━━━━━━━━━━━━━━━━━━━━━━━━━━━━━━\u001b[0m \u001b[32m50.4/50.4 kB\u001b[0m \u001b[31m522.6 kB/s\u001b[0m eta \u001b[36m0:00:00\u001b[0m\n",
            "\u001b[2K   \u001b[90m━━━━━━━━━━━━━━━━━━━━━━━━━━━━━━━━━━━━━━━━\u001b[0m \u001b[32m405.1/405.1 kB\u001b[0m \u001b[31m12.7 MB/s\u001b[0m eta \u001b[36m0:00:00\u001b[0m\n",
            "\u001b[2K   \u001b[90m━━━━━━━━━━━━━━━━━━━━━━━━━━━━━━━━━━━━━━━━\u001b[0m \u001b[32m2.3/2.3 MB\u001b[0m \u001b[31m34.9 MB/s\u001b[0m eta \u001b[36m0:00:00\u001b[0m\n",
            "\u001b[2K   \u001b[90m━━━━━━━━━━━━━━━━━━━━━━━━━━━━━━━━━━━━━━━━\u001b[0m \u001b[32m98.5/98.5 kB\u001b[0m \u001b[31m6.5 MB/s\u001b[0m eta \u001b[36m0:00:00\u001b[0m\n",
            "\u001b[2K   \u001b[90m━━━━━━━━━━━━━━━━━━━━━━━━━━━━━━━━━━━━━━━━\u001b[0m \u001b[32m51.5/51.5 kB\u001b[0m \u001b[31m3.6 MB/s\u001b[0m eta \u001b[36m0:00:00\u001b[0m\n",
            "\u001b[2K   \u001b[90m━━━━━━━━━━━━━━━━━━━━━━━━━━━━━━━━━━━━━━━━\u001b[0m \u001b[32m1.0/1.0 MB\u001b[0m \u001b[31m34.5 MB/s\u001b[0m eta \u001b[36m0:00:00\u001b[0m\n",
            "\u001b[2K   \u001b[90m━━━━━━━━━━━━━━━━━━━━━━━━━━━━━━━━━━━━━━━━\u001b[0m \u001b[32m289.9/289.9 kB\u001b[0m \u001b[31m16.1 MB/s\u001b[0m eta \u001b[36m0:00:00\u001b[0m\n",
            "\u001b[2K   \u001b[90m━━━━━━━━━━━━━━━━━━━━━━━━━━━━━━━━━━━━━━━━\u001b[0m \u001b[32m374.2/374.2 kB\u001b[0m \u001b[31m20.6 MB/s\u001b[0m eta \u001b[36m0:00:00\u001b[0m\n",
            "\u001b[2K   \u001b[90m━━━━━━━━━━━━━━━━━━━━━━━━━━━━━━━━━━━━━━━━\u001b[0m \u001b[32m2.8/2.8 MB\u001b[0m \u001b[31m46.6 MB/s\u001b[0m eta \u001b[36m0:00:00\u001b[0m\n",
            "\u001b[2K   \u001b[90m━━━━━━━━━━━━━━━━━━━━━━━━━━━━━━━━━━━━━━━━\u001b[0m \u001b[32m1.1/1.1 MB\u001b[0m \u001b[31m34.3 MB/s\u001b[0m eta \u001b[36m0:00:00\u001b[0m\n",
            "\u001b[2K   \u001b[90m━━━━━━━━━━━━━━━━━━━━━━━━━━━━━━━━━━━━━━━━\u001b[0m \u001b[32m76.4/76.4 kB\u001b[0m \u001b[31m5.0 MB/s\u001b[0m eta \u001b[36m0:00:00\u001b[0m\n",
            "\u001b[2K   \u001b[90m━━━━━━━━━━━━━━━━━━━━━━━━━━━━━━━━━━━━━━━━\u001b[0m \u001b[32m77.9/77.9 kB\u001b[0m \u001b[31m3.7 MB/s\u001b[0m eta \u001b[36m0:00:00\u001b[0m\n",
            "\u001b[2K   \u001b[90m━━━━━━━━━━━━━━━━━━━━━━━━━━━━━━━━━━━━━━━━\u001b[0m \u001b[32m318.9/318.9 kB\u001b[0m \u001b[31m16.3 MB/s\u001b[0m eta \u001b[36m0:00:00\u001b[0m\n",
            "\u001b[2K   \u001b[90m━━━━━━━━━━━━━━━━━━━━━━━━━━━━━━━━━━━━━━━━\u001b[0m \u001b[32m49.3/49.3 kB\u001b[0m \u001b[31m2.3 MB/s\u001b[0m eta \u001b[36m0:00:00\u001b[0m\n",
            "\u001b[2K   \u001b[90m━━━━━━━━━━━━━━━━━━━━━━━━━━━━━━━━━━━━━━━━\u001b[0m \u001b[32m378.0/378.0 kB\u001b[0m \u001b[31m19.9 MB/s\u001b[0m eta \u001b[36m0:00:00\u001b[0m\n",
            "\u001b[2K   \u001b[90m━━━━━━━━━━━━━━━━━━━━━━━━━━━━━━━━━━━━━━━━\u001b[0m \u001b[32m141.9/141.9 kB\u001b[0m \u001b[31m8.6 MB/s\u001b[0m eta \u001b[36m0:00:00\u001b[0m\n",
            "\u001b[2K   \u001b[90m━━━━━━━━━━━━━━━━━━━━━━━━━━━━━━━━━━━━━━━━\u001b[0m \u001b[32m58.3/58.3 kB\u001b[0m \u001b[31m3.4 MB/s\u001b[0m eta \u001b[36m0:00:00\u001b[0m\n",
            "\u001b[?25h"
          ]
        }
      ],
      "source": [
        "!pip -q install langchain-core langchain-community langgraph langchain-openai duckduckgo-search"
      ]
    },
    {
      "cell_type": "markdown",
      "metadata": {
        "id": "_PK5Dpx4j02e"
      },
      "source": [
        "## LangGraph ReAct Function Calling Pattern\n",
        "\n",
        "- Search\n",
        "\n",
        "- Math\n",
        "\n",
        "---\n",
        "\n"
      ]
    },
    {
      "cell_type": "markdown",
      "metadata": {
        "id": "o0vQNgwBKU0n"
      },
      "source": [
        "## Traditional ReAct\n",
        "\n",
        "\n",
        "react_prompt = \"\"\"Assistant is a large language model trained by Microsoft.\n",
        "\n",
        "Assistant is designed to be able to assist with a wide range of tasks, from answering simple questions to providing in-depth explanations and discussions on a wide range of topics. As a language model, Assistant is able to generate human-like text based on the input it receives, allowing it to engage in natural-sounding conversations and provide responses that are coherent and relevant to the topic at hand.\n",
        "\n",
        "Assistant is constantly learning and improving, and its capabilities are constantly evolving. It is able to process and understand large amounts of text, and can use this knowledge to provide accurate and informative responses to a wide range of questions. Additionally, Assistant is able to generate its own text based on the input it receives, allowing it to engage in discussions and provide explanations and descriptions on a wide range of topics.\n",
        "\n",
        "Overall, Assistant is a powerful tool that can help with a wide range of tasks and provide valuable insights and information on a wide range of topics. Whether you need help with a specific question or just want to have a conversation about a particular topic, Assistant is here to assist.\n",
        "\n",
        "TOOLS:\n",
        "------\n",
        "\n",
        "Assistant has access to the following tools:\n",
        "\n",
        "wikipedia_search - searches the wikipedia database for the answer\\n\n",
        "web_search - searches the web for the answer\\n\n",
        "calculator - calculates the answer to the question\\n\n",
        "weather_api - gets the weather for the location\\n\n",
        "\n",
        "\n",
        "To use a tool, please use the following format:\n",
        "\n",
        "```\n",
        "Thought: Do I need to use a tool? Yes\n",
        "Action: the action to take, should be one of [wikipedia_search, web_search, calculator, weather_api]\n",
        "Action Input: the input to the action\n",
        "Observation: the result of the action\n",
        "```\n",
        "\n",
        "When you have a response to say to the Human, or if you do not need to use a tool, you MUST use the format:\n",
        "\n",
        "```\n",
        "Thought: Do I need to use a tool? No\n",
        "Final Answer: [your response here]\n",
        "```\n",
        "\n",
        "Begin!\n",
        "\n",
        "\n",
        "New input: Whow was King Arthur?\n",
        "\"\"\""
      ]
    },
    {
      "cell_type": "code",
      "execution_count": 1,
      "metadata": {
        "id": "Iv9zB6BrhbRY"
      },
      "outputs": [
        {
          "name": "stderr",
          "output_type": "stream",
          "text": [
            "/home/ravi0531rp/anaconda3/envs/PlanSage/lib/python3.10/site-packages/tqdm/auto.py:21: TqdmWarning: IProgress not found. Please update jupyter and ipywidgets. See https://ipywidgets.readthedocs.io/en/stable/user_install.html\n",
            "  from .autonotebook import tqdm as notebook_tqdm\n"
          ]
        }
      ],
      "source": [
        "import getpass\n",
        "import os\n",
        "from dotenv import load_dotenv\n",
        "\n",
        "load_dotenv()\n",
        "\n",
        "from langchain_google_genai import ChatGoogleGenerativeAI\n",
        "\n",
        "llm = ChatGoogleGenerativeAI(\n",
        "    model=\"gemini-1.5-pro\",\n",
        "    temperature=0,\n",
        "    max_tokens=None,\n",
        "    timeout=None,\n",
        "    max_retries=2,\n",
        "    # other params...\n",
        ")"
      ]
    },
    {
      "cell_type": "code",
      "execution_count": 2,
      "metadata": {},
      "outputs": [
        {
          "data": {
            "text/plain": [
              "ChatGoogleGenerativeAI(model='models/gemini-1.5-pro', google_api_key=SecretStr('**********'), temperature=0.0, max_retries=2, client=<google.ai.generativelanguage_v1beta.services.generative_service.client.GenerativeServiceClient object at 0x738aaf3874f0>, default_metadata=())"
            ]
          },
          "execution_count": 2,
          "metadata": {},
          "output_type": "execute_result"
        }
      ],
      "source": [
        "llm"
      ]
    },
    {
      "cell_type": "markdown",
      "metadata": {
        "id": "Xjw2pzHJmgcz"
      },
      "source": [
        "### Tools"
      ]
    },
    {
      "cell_type": "code",
      "execution_count": null,
      "metadata": {
        "id": "1AJoWmexhbUQ"
      },
      "outputs": [],
      "source": [
        "def multiply(a: int, b: int) -> int:\n",
        "    \"\"\"Multiply a and b.\n",
        "\n",
        "    Args:\n",
        "        a: first int\n",
        "        b: second int\n",
        "    \"\"\"\n",
        "    return a * b\n",
        "\n",
        "# This will be a tool\n",
        "def add(a: int, b: int) -> int:\n",
        "    \"\"\"Adds a and b.\n",
        "\n",
        "    Args:\n",
        "        a: first int\n",
        "        b: second int\n",
        "    \"\"\"\n",
        "    return a + b\n",
        "\n",
        "def divide(a: int, b: int) -> float:\n",
        "    \"\"\"Divide a and b.\n",
        "\n",
        "    Args:\n",
        "        a: first int\n",
        "        b: second int\n",
        "    \"\"\"\n",
        "    return a / b"
      ]
    },
    {
      "cell_type": "code",
      "execution_count": null,
      "metadata": {
        "colab": {
          "base_uri": "https://localhost:8080/",
          "height": 157
        },
        "id": "1VfRa-pdmm1u",
        "outputId": "c3ded11d-3447-4ad8-a736-44a2cb733895"
      },
      "outputs": [
        {
          "data": {
            "application/vnd.google.colaboratory.intrinsic+json": {
              "type": "string"
            },
            "text/plain": [
              "'Brad Pitt. Photo: Amy Sussman/Getty Images. Brad Pitt is opening up about growing older. The Oscar winner, 60, and George Clooney, 63, spoke with GQ in an interview published on Tuesday, August 13 ... Brad Pitt marked his 60th birthday with a celebration at Mother Wolf in Los Angeles this week. One onlooker says the actor \\'looked super happy\\' at the party, and \\'everyone had a smile on their faces.\\' Brad Pitt is an American actor born on December 18, 1963, in Shawnee, Oklahoma. He has starred in various films, won an Academy Award, and married Angelina Jolie. Brad Pitt rang in his six-decade milestone in a big way — twice! Pitt celebrated his 60th birthday on Monday, along with friends and his girlfriend, Ines de Ramon, 33, with \"low key ... Brad Pitt\\'s net worth is estimated to be around $400 million. His acting career alone has contributed significantly to this, with Pitt commanding as much as $20 million per film. ... Born on December 18, 1963, Brad Pitt is 61 years old. His zodiac sign is Sagittarius who are known for being adventurous, independent, and passionate—traits ...'"
            ]
          },
          "execution_count": 6,
          "metadata": {},
          "output_type": "execute_result"
        }
      ],
      "source": [
        "# search tools\n",
        "from langchain_community.tools import DuckDuckGoSearchRun\n",
        "\n",
        "search = DuckDuckGoSearchRun()\n",
        "\n",
        "search.invoke(\"How old is Brad Pitt?\")"
      ]
    },
    {
      "cell_type": "code",
      "execution_count": null,
      "metadata": {
        "id": "7rlu8MF-ho6e"
      },
      "outputs": [],
      "source": [
        "tools = [add, multiply, divide, search]\n",
        "\n",
        "llm_with_tools = llm.bind_tools(tools)"
      ]
    },
    {
      "cell_type": "code",
      "execution_count": null,
      "metadata": {
        "id": "FlgpM-CFh3SH"
      },
      "outputs": [],
      "source": [
        "from langgraph.graph import MessagesState\n",
        "from langchain_core.messages import HumanMessage, SystemMessage\n",
        "\n",
        "# System message\n",
        "sys_msg = SystemMessage(content=\"You are a helpful assistant tasked with using search and performing arithmetic on a set of inputs.\")\n",
        "\n"
      ]
    },
    {
      "cell_type": "markdown",
      "metadata": {
        "id": "H7z8wrV9550D"
      },
      "source": [
        "## Nodes"
      ]
    },
    {
      "cell_type": "code",
      "execution_count": null,
      "metadata": {
        "id": "uJ6mJ1Hcio3U"
      },
      "outputs": [],
      "source": [
        "# Node\n",
        "def reasoner(state: MessagesState):\n",
        "   return {\"messages\": [llm_with_tools.invoke([sys_msg] + state[\"messages\"])]}\n"
      ]
    },
    {
      "cell_type": "markdown",
      "metadata": {
        "id": "E5T9K_c1nNCP"
      },
      "source": [
        "### Building the graph"
      ]
    },
    {
      "cell_type": "code",
      "execution_count": null,
      "metadata": {
        "colab": {
          "base_uri": "https://localhost:8080/",
          "height": 266
        },
        "id": "o0FIm4j0io5S",
        "outputId": "65cc7df0-cef4-4b5e-deb7-41b01eb17be3"
      },
      "outputs": [
        {
          "data": {
            "image/jpeg": "[encoded data removed]",
            "text/plain": [
              "<IPython.core.display.Image object>"
            ]
          },
          "metadata": {},
          "output_type": "display_data"
        }
      ],
      "source": [
        "from langgraph.graph import START, StateGraph\n",
        "from langgraph.prebuilt import tools_condition # this is the checker for the if you got a tool back\n",
        "from langgraph.prebuilt import ToolNode\n",
        "from IPython.display import Image, display\n",
        "\n",
        "# Graph\n",
        "builder = StateGraph(MessagesState)\n",
        "\n",
        "# Add nodes\n",
        "builder.add_node(\"reasoner\", reasoner)\n",
        "builder.add_node(\"tools\", ToolNode(tools)) # for the tools\n",
        "\n",
        "# Add edges\n",
        "builder.add_edge(START, \"reasoner\")\n",
        "builder.add_conditional_edges(\n",
        "    \"reasoner\",\n",
        "    # If the latest message (result) from node reasoner is a tool call -> tools_condition routes to tools\n",
        "    # If the latest message (result) from node reasoner is a not a tool call -> tools_condition routes to END\n",
        "    tools_condition,\n",
        ")\n",
        "builder.add_edge(\"tools\", \"reasoner\")\n",
        "react_graph = builder.compile()\n",
        "\n",
        "# Display the graph\n",
        "display(Image(react_graph.get_graph(xray=True).draw_mermaid_png()))"
      ]
    },
    {
      "cell_type": "code",
      "execution_count": null,
      "metadata": {
        "id": "yYz5Wc9dio76"
      },
      "outputs": [],
      "source": [
        "messages = [HumanMessage(content=\"What is 2 times Brad Pitt's age?\")]\n",
        "messages = react_graph.invoke({\"messages\": messages})"
      ]
    },
    {
      "cell_type": "code",
      "execution_count": null,
      "metadata": {
        "colab": {
          "base_uri": "https://localhost:8080/"
        },
        "id": "GvzaROdwi64G",
        "outputId": "3b549b46-08ed-446e-e28f-8c92c9f0128d"
      },
      "outputs": [
        {
          "name": "stdout",
          "output_type": "stream",
          "text": [
            "================================\u001b[1m Human Message \u001b[0m=================================\n",
            "\n",
            "What is 2 times Brad Pitt's age?\n",
            "==================================\u001b[1m Ai Message \u001b[0m==================================\n",
            "Tool Calls:\n",
            "  duckduckgo_search (call_Ll4tmu9e4PnAqAqcDx7y1byP)\n",
            " Call ID: call_Ll4tmu9e4PnAqAqcDx7y1byP\n",
            "  Args:\n",
            "    query: Brad Pitt age\n",
            "=================================\u001b[1m Tool Message \u001b[0m=================================\n",
            "Name: duckduckgo_search\n",
            "\n",
            "Brad Pitt's Age & Height Pitt Is a Sagittarius Born on December 18, 1963, Brad Pitt is 61 years old. His zodiac sign is Sagittarius who are known for being adventurous, independent, and passionate—traits that have been central to Pitt's successful career. Whether he's taking ... Brad Pitt Says He Became 'More Aware of' Mortality After Turning 60. ... who is a few years older, reminisced on being Pitt's current age. \"When I turned 60, my wife and I had a nice dinner. We ... Brad Pitt (born December 18, 1963, Shawnee, Oklahoma, U.S.) is an American actor known for his portrayal of unconventional characters and for his good looks.After gaining attention for his role in Thelma & Louise (1991), Pitt channeled his magnetism as a leading man in such movies as A River Runs Through It (1992) and Legends of the Fall (1994) but avoided being typecast by assuming unorthodox ... Brad Pitt marked his 60th birthday with a celebration at Mother Wolf in Los Angeles this week. One onlooker says the actor 'looked super happy' at the party, and 'everyone had a smile on their faces.' Brad Pitt is celebrating his 60th birthday on December 18, 2023, with his girlfriend Ines de Ramon and some of his kids. He is also facing a custody and property battle with his ex-wife Angelina Jolie, who accused him of abuse.\n",
            "==================================\u001b[1m Ai Message \u001b[0m==================================\n",
            "Tool Calls:\n",
            "  multiply (call_4wRdSMd2mEtALZMcZHKKsRvM)\n",
            " Call ID: call_4wRdSMd2mEtALZMcZHKKsRvM\n",
            "  Args:\n",
            "    a: 60\n",
            "    b: 2\n",
            "=================================\u001b[1m Tool Message \u001b[0m=================================\n",
            "Name: multiply\n",
            "\n",
            "120\n",
            "==================================\u001b[1m Ai Message \u001b[0m==================================\n",
            "\n",
            "2 times Brad Pitt's age (60 years) is 120.\n"
          ]
        }
      ],
      "source": [
        "for m in messages['messages']:\n",
        "    m.pretty_print()"
      ]
    },
    {
      "cell_type": "markdown",
      "metadata": {
        "id": "QtczHZq39HKG"
      },
      "source": [
        "## More manual way and adding a custom tool"
      ]
    },
    {
      "cell_type": "code",
      "execution_count": null,
      "metadata": {
        "colab": {
          "base_uri": "https://localhost:8080/"
        },
        "id": "KteveCcwHXsl",
        "outputId": "075ae62d-808e-466a-9d1a-ec967ca744d6"
      },
      "outputs": [
        {
          "name": "stdout",
          "output_type": "stream",
          "text": [
            "  Preparing metadata (setup.py) ... \u001b[?25l\u001b[?25hdone\n",
            "\u001b[2K   \u001b[90m━━━━━━━━━━━━━━━━━━━━━━━━━━━━━━━━━━━━━━━━\u001b[0m \u001b[32m137.9/137.9 kB\u001b[0m \u001b[31m3.9 MB/s\u001b[0m eta \u001b[36m0:00:00\u001b[0m\n",
            "\u001b[?25h  Building wheel for yahoo-finance (setup.py) ... \u001b[?25l\u001b[?25hdone\n"
          ]
        }
      ],
      "source": [
        "!pip -q install yahoo-finance"
      ]
    },
    {
      "cell_type": "code",
      "execution_count": null,
      "metadata": {
        "id": "0pMlZscoM6e_"
      },
      "outputs": [],
      "source": [
        "import yfinance as yf\n",
        "\n",
        "def get_stock_price(ticker: str) -> float:\n",
        "    \"\"\"Gets a stock price from Yahoo Finance.\n",
        "\n",
        "    Args:\n",
        "        ticker: ticker str\n",
        "    \"\"\"\n",
        "    # \"\"\"This is a tool for getting the price of a stock when passed a ticker symbol\"\"\"\n",
        "    stock = yf.Ticker(ticker)\n",
        "    return stock.info['previousClose']"
      ]
    },
    {
      "cell_type": "code",
      "execution_count": null,
      "metadata": {
        "colab": {
          "base_uri": "https://localhost:8080/"
        },
        "id": "PvJ113s9Ljgq",
        "outputId": "8aaa51ed-bbf0-413d-c642-e56170ea69e5"
      },
      "outputs": [
        {
          "data": {
            "text/plain": [
              "222.5"
            ]
          },
          "execution_count": 18,
          "metadata": {},
          "output_type": "execute_result"
        }
      ],
      "source": [
        "get_stock_price(\"AAPL\")"
      ]
    },
    {
      "cell_type": "code",
      "execution_count": null,
      "metadata": {
        "id": "Nlv8Um_zBLac"
      },
      "outputs": [],
      "source": [
        "# from langchain_community.tools.yahoo_finance_news import YahooFinanceNewsTool\n",
        "\n",
        "# y_finance = YahooFinanceNewsTool()\n",
        "\n",
        "# y_finance.invoke(\"AAPL\")"
      ]
    },
    {
      "cell_type": "code",
      "execution_count": null,
      "metadata": {
        "id": "6-unsLIxCKOq"
      },
      "outputs": [],
      "source": [
        "# Node\n",
        "def reasoner(state):\n",
        "    query = state[\"query\"]\n",
        "    messages = state[\"messages\"]\n",
        "    # System message\n",
        "    sys_msg = SystemMessage(content=\"You are a helpful assistant tasked with using search, the yahoo finance tool and performing arithmetic on a set of inputs.\")\n",
        "    message = HumanMessage(content=query)\n",
        "    messages.append(message)\n",
        "    result = [llm_with_tools.invoke([sys_msg] + messages)]\n",
        "    return {\"messages\":result}\n"
      ]
    },
    {
      "cell_type": "code",
      "execution_count": null,
      "metadata": {
        "id": "LBGXfOroEEVD"
      },
      "outputs": [],
      "source": [
        "tools = [add, multiply, divide, search, get_stock_price]\n",
        "\n",
        "\n",
        "llm_with_tools = llm.bind_tools(tools)"
      ]
    },
    {
      "cell_type": "code",
      "execution_count": null,
      "metadata": {
        "colab": {
          "base_uri": "https://localhost:8080/",
          "height": 155
        },
        "id": "Ak2n1HL1oS2u",
        "outputId": "95fffb2d-f3d4-48b1-da4a-666a8d199475"
      },
      "outputs": [
        {
          "data": {
            "text/html": [
              "<div style=\"max-width:800px; border: 1px solid var(--colab-border-color);\"><style>\n",
              "      pre.function-repr-contents {\n",
              "        overflow-x: auto;\n",
              "        padding: 8px 12px;\n",
              "        max-height: 500px;\n",
              "      }\n",
              "\n",
              "      pre.function-repr-contents.function-repr-contents-collapsed {\n",
              "        cursor: pointer;\n",
              "        max-height: 100px;\n",
              "      }\n",
              "    </style>\n",
              "    <pre style=\"white-space: initial; background:\n",
              "         var(--colab-secondary-surface-color); padding: 8px 12px;\n",
              "         border-bottom: 1px solid var(--colab-border-color);\"><b>get_stock_price</b><br/>def get_stock_price(ticker: str) -&gt; float</pre><pre class=\"function-repr-contents function-repr-contents-collapsed\" style=\"\"><a class=\"filepath\" style=\"display:none\" href=\"#\">/content/&lt;ipython-input-17-dd2f630352cb&gt;</a>Gets a stock price from Yahoo Finance.\n",
              "\n",
              "Args:\n",
              "    ticker: ticker str</pre></div>"
            ],
            "text/plain": [
              "<function __main__.get_stock_price(ticker: str) -> float>"
            ]
          },
          "execution_count": 22,
          "metadata": {},
          "output_type": "execute_result"
        }
      ],
      "source": [
        "tools[4]"
      ]
    },
    {
      "cell_type": "code",
      "execution_count": null,
      "metadata": {
        "id": "RH1ap_Yuztf5"
      },
      "outputs": [],
      "source": [
        "from typing import Annotated, TypedDict\n",
        "import operator\n",
        "from langchain_core.messages import AnyMessage\n",
        "from langgraph.graph.message import add_messages\n",
        "\n",
        "\n",
        "class GraphState(TypedDict):\n",
        "    \"\"\"State of the graph.\"\"\"\n",
        "    query: str\n",
        "    finance: str\n",
        "    final_answer: str\n",
        "    # intermediate_steps: Annotated[list[tuple[AgentAction, str]], operator.add]\n",
        "    messages: Annotated[list[AnyMessage], operator.add]\n"
      ]
    },
    {
      "cell_type": "code",
      "execution_count": null,
      "metadata": {
        "colab": {
          "base_uri": "https://localhost:8080/",
          "height": 266
        },
        "id": "1REv0ndD_Awn",
        "outputId": "9a0edd3f-96c7-4b20-8120-8ff108f10827"
      },
      "outputs": [
        {
          "data": {
            "image/jpeg": "[encoded data removed]",
            "text/plain": [
              "<IPython.core.display.Image object>"
            ]
          },
          "metadata": {},
          "output_type": "display_data"
        }
      ],
      "source": [
        "from langgraph.graph import START, StateGraph\n",
        "from langgraph.prebuilt import tools_condition # this is the checker for the\n",
        "from langgraph.prebuilt import ToolNode\n",
        "\n",
        "\n",
        "# Graph\n",
        "workflow = StateGraph(GraphState)\n",
        "\n",
        "# Add Nodes\n",
        "workflow.add_node(\"reasoner\", reasoner)\n",
        "workflow.add_node(\"tools\", ToolNode(tools)) # for the tools\n",
        "\n",
        "# Add Edges\n",
        "workflow.add_edge(START, \"reasoner\")\n",
        "\n",
        "workflow.add_conditional_edges(\n",
        "    \"reasoner\",\n",
        "    # If the latest message (result) from node reasoner is a tool call -> tools_condition routes to tools\n",
        "    # If the latest message (result) from node reasoner is a not a tool call -> tools_condition routes to END\n",
        "    tools_condition,\n",
        ")\n",
        "workflow.add_edge(\"tools\", \"reasoner\")\n",
        "react_graph = workflow.compile()\n",
        "\n",
        "# Show\n",
        "display(Image(react_graph.get_graph(xray=True).draw_mermaid_png()))"
      ]
    },
    {
      "cell_type": "markdown",
      "metadata": {
        "id": "2jIyk5ZwDGxY"
      },
      "source": []
    },
    {
      "cell_type": "code",
      "execution_count": null,
      "metadata": {
        "id": "Zd_qJiEmDHjf"
      },
      "outputs": [],
      "source": [
        "response = react_graph.invoke({\"query\": \"What is 2 times Brad Pitt's age?\", \"messages\": []})"
      ]
    },
    {
      "cell_type": "code",
      "execution_count": null,
      "metadata": {
        "colab": {
          "base_uri": "https://localhost:8080/"
        },
        "id": "CrXHHgZSENOu",
        "outputId": "1b8c67d0-3ba2-4c41-e2b4-6f75f7af3173"
      },
      "outputs": [
        {
          "name": "stdout",
          "output_type": "stream",
          "text": [
            "==================================\u001b[1m Ai Message \u001b[0m==================================\n",
            "\n",
            "2 times Brad Pitt's age (60) is 120.\n"
          ]
        }
      ],
      "source": [
        "response['messages'][-1].pretty_print()"
      ]
    },
    {
      "cell_type": "code",
      "execution_count": null,
      "metadata": {
        "id": "EpBUkfSILf98"
      },
      "outputs": [],
      "source": [
        "response = react_graph.invoke({\"query\": \"What is the stock price of Apple?\", \"messages\": []})"
      ]
    },
    {
      "cell_type": "code",
      "execution_count": null,
      "metadata": {
        "colab": {
          "base_uri": "https://localhost:8080/"
        },
        "id": "w3fZeZGXLf-D",
        "outputId": "7b3b3893-79ca-46af-9c13-c93aa0997e52"
      },
      "outputs": [
        {
          "name": "stdout",
          "output_type": "stream",
          "text": [
            "================================\u001b[1m Human Message \u001b[0m=================================\n",
            "\n",
            "What is the stock price of Apple?\n",
            "==================================\u001b[1m Ai Message \u001b[0m==================================\n",
            "Tool Calls:\n",
            "  get_stock_price (call_X7Y8xbdMg2vo2bI2C6hal7Gz)\n",
            " Call ID: call_X7Y8xbdMg2vo2bI2C6hal7Gz\n",
            "  Args:\n",
            "    ticker: AAPL\n",
            "=================================\u001b[1m Tool Message \u001b[0m=================================\n",
            "Name: get_stock_price\n",
            "\n",
            "222.5\n",
            "================================\u001b[1m Human Message \u001b[0m=================================\n",
            "\n",
            "What is the stock price of Apple?\n",
            "==================================\u001b[1m Ai Message \u001b[0m==================================\n",
            "\n",
            "The stock price of Apple (AAPL) is $222.50.\n"
          ]
        }
      ],
      "source": [
        "for m in response['messages']:\n",
        "    m.pretty_print()"
      ]
    },
    {
      "cell_type": "code",
      "execution_count": null,
      "metadata": {
        "id": "c21ouY0PIQh-"
      },
      "outputs": [],
      "source": [
        "response = react_graph.invoke({\"query\": \"What is the stock price of the company that Jensen Huang is CEO of?\", \"messages\": []})"
      ]
    },
    {
      "cell_type": "code",
      "execution_count": null,
      "metadata": {
        "colab": {
          "base_uri": "https://localhost:8080/"
        },
        "id": "szgNFSrzJQ0o",
        "outputId": "503e24f7-706d-49dd-99f9-b1d693c4c369"
      },
      "outputs": [
        {
          "name": "stdout",
          "output_type": "stream",
          "text": [
            "================================\u001b[1m Human Message \u001b[0m=================================\n",
            "\n",
            "What is the stock price of the company that Jensen Huang is CEO of?\n",
            "==================================\u001b[1m Ai Message \u001b[0m==================================\n",
            "Tool Calls:\n",
            "  duckduckgo_search (call_Lx0D1F4vLFCKEPWAVKWn3Dbr)\n",
            " Call ID: call_Lx0D1F4vLFCKEPWAVKWn3Dbr\n",
            "  Args:\n",
            "    query: Jensen Huang CEO company\n",
            "=================================\u001b[1m Tool Message \u001b[0m=================================\n",
            "Name: duckduckgo_search\n",
            "\n",
            "Jensen Huang: from Denny's dishwasher to CEO of Nvidia | 60 Minutes 13:23. Only four companies in the world are worth more than $2 trillion: Microsoft, Apple, Alphabet — parent company of Google ... Nvidia CEO Jensen Huang launched his company in a booth at Denny's with his friends. Meet his cofounder who donated shares now worth $70 billion and moved off the grid ... Jensen Huang, Chris ... Nvidia CEO Jensen Huang delivers his keynote speech ahead of Computex 2024 in Taipei on June 2, 2024. When Nvidia surpassed Apple this week to become America's second most valuable company, its ... Jensen Huang cofounded graphics-chip maker Nvidia in 1993, and has served as its CEO and president ever since. Huang owns approximately 3% of Nvidia, which went public in 1999. Born in Taiwan ... Nvidia pressed ahead in March, when CEO Jensen Huang unveiled Blackwell, the company's latest GPU. Designed in America, but made in Taiwan, Huang said Blackwell is the fastest chip ever and suited ...\n",
            "================================\u001b[1m Human Message \u001b[0m=================================\n",
            "\n",
            "What is the stock price of the company that Jensen Huang is CEO of?\n",
            "==================================\u001b[1m Ai Message \u001b[0m==================================\n",
            "Tool Calls:\n",
            "  get_stock_price (call_oNoDpxpusg19uFl5mBJyxHxB)\n",
            " Call ID: call_oNoDpxpusg19uFl5mBJyxHxB\n",
            "  Args:\n",
            "    ticker: NVDA\n",
            "=================================\u001b[1m Tool Message \u001b[0m=================================\n",
            "Name: get_stock_price\n",
            "\n",
            "119.1\n",
            "================================\u001b[1m Human Message \u001b[0m=================================\n",
            "\n",
            "What is the stock price of the company that Jensen Huang is CEO of?\n",
            "==================================\u001b[1m Ai Message \u001b[0m==================================\n",
            "\n",
            "The stock price of Nvidia (the company where Jensen Huang is the CEO) is $119.10.\n"
          ]
        }
      ],
      "source": [
        "for m in response['messages']:\n",
        "    m.pretty_print()"
      ]
    },
    {
      "cell_type": "code",
      "execution_count": null,
      "metadata": {
        "id": "-RC8SvteJr62"
      },
      "outputs": [],
      "source": []
    },
    {
      "cell_type": "code",
      "execution_count": null,
      "metadata": {
        "id": "MiJ7ooR0qfwm"
      },
      "outputs": [],
      "source": [
        "response = react_graph.invoke({\"query\": \"What will be the price of nvidia stock if it doubles?\", \"messages\": []})"
      ]
    },
    {
      "cell_type": "code",
      "execution_count": null,
      "metadata": {
        "colab": {
          "base_uri": "https://localhost:8080/"
        },
        "id": "-pVdTUUMqfwn",
        "outputId": "a8aded62-fe1a-4747-f1c2-905b1d2dc060"
      },
      "outputs": [
        {
          "name": "stdout",
          "output_type": "stream",
          "text": [
            "================================\u001b[1m Human Message \u001b[0m=================================\n",
            "\n",
            "What will be the price of nvidia stock if it doubles?\n",
            "==================================\u001b[1m Ai Message \u001b[0m==================================\n",
            "Tool Calls:\n",
            "  get_stock_price (call_8iPPMM261Ddgr4LdAlhQ4wW9)\n",
            " Call ID: call_8iPPMM261Ddgr4LdAlhQ4wW9\n",
            "  Args:\n",
            "    ticker: NVDA\n",
            "=================================\u001b[1m Tool Message \u001b[0m=================================\n",
            "Name: get_stock_price\n",
            "\n",
            "119.1\n",
            "================================\u001b[1m Human Message \u001b[0m=================================\n",
            "\n",
            "What will be the price of nvidia stock if it doubles?\n",
            "==================================\u001b[1m Ai Message \u001b[0m==================================\n",
            "Tool Calls:\n",
            "  multiply (call_uiTbfZ1pyR4TGayOPHXT1vZB)\n",
            " Call ID: call_uiTbfZ1pyR4TGayOPHXT1vZB\n",
            "  Args:\n",
            "    a: 11910\n",
            "    b: 2\n",
            "=================================\u001b[1m Tool Message \u001b[0m=================================\n",
            "Name: multiply\n",
            "\n",
            "23820\n",
            "================================\u001b[1m Human Message \u001b[0m=================================\n",
            "\n",
            "What will be the price of nvidia stock if it doubles?\n",
            "==================================\u001b[1m Ai Message \u001b[0m==================================\n",
            "\n",
            "If Nvidia's stock price doubles, it will be $238.20.\n"
          ]
        }
      ],
      "source": [
        "for m in response['messages']:\n",
        "    m.pretty_print()"
      ]
    },
    {
      "cell_type": "code",
      "execution_count": null,
      "metadata": {
        "colab": {
          "base_uri": "https://localhost:8080/",
          "height": 266
        },
        "id": "hhs6PnuLMSvW",
        "outputId": "a78f4d9d-0e1b-4ef7-c299-0f58b2c70490"
      },
      "outputs": [
        {
          "data": {
            "image/jpeg": "[encoded data removed]",
            "text/plain": [
              "<IPython.core.display.Image object>"
            ]
          },
          "metadata": {},
          "output_type": "display_data"
        }
      ],
      "source": [
        "display(Image(react_graph.get_graph(xray=True).draw_mermaid_png()))"
      ]
    },
    {
      "cell_type": "code",
      "execution_count": null,
      "metadata": {
        "id": "LA3LBsu3T2Ag"
      },
      "outputs": [],
      "source": []
    }
  ],
  "metadata": {
    "colab": {
      "provenance": []
    },
    "kernelspec": {
      "display_name": "Python 3",
      "name": "python3"
    },
    "language_info": {
      "codemirror_mode": {
        "name": "ipython",
        "version": 3
      },
      "file_extension": ".py",
      "mimetype": "text/x-python",
      "name": "python",
      "nbconvert_exporter": "python",
      "pygments_lexer": "ipython3",
      "version": "3.10.15"
    }
  },
  "nbformat": 4,
  "nbformat_minor": 0
}
