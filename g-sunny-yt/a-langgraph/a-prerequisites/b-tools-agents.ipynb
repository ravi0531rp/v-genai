{
 "cells": [
  {
   "cell_type": "code",
   "execution_count": 2,
   "metadata": {},
   "outputs": [
    {
     "data": {
      "text/plain": [
       "True"
      ]
     },
     "execution_count": 2,
     "metadata": {},
     "output_type": "execute_result"
    }
   ],
   "source": [
    "import os\n",
    "import os\n",
    "from dotenv import load_dotenv\n",
    "load_dotenv()"
   ]
  },
  {
   "cell_type": "code",
   "execution_count": 3,
   "metadata": {},
   "outputs": [],
   "source": [
    "GOOGLE_API_KEY=os.getenv(\"GOOGLE_API_KEY\")\n",
    "TAVILY_API_KEY=os.getenv(\"TAVILY_API_KEY\")\n",
    "GROQ_API_KEY=os.getenv(\"GROQ_API_KEY\")\n",
    "LANGCHAIN_API_KEY=os.getenv(\"LANGCHAIN_API_KEY\")\n",
    "LANGCHAIN_PROJECT=os.getenv(\"LANGCHAIN_PROJECT\")"
   ]
  },
  {
   "cell_type": "code",
   "execution_count": 4,
   "metadata": {},
   "outputs": [],
   "source": [
    "os.environ[\"GOOGLE_API_KEY\"] = GOOGLE_API_KEY\n",
    "os.environ[\"TAVILY_API_KEY\"] = TAVILY_API_KEY\n",
    "os.environ[\"GROQ_API_KEY\"]= GROQ_API_KEY\n",
    "os.environ[\"LANGCHAIN_API_KEY\"] = LANGCHAIN_API_KEY\n",
    "os.environ[\"LANGCHAIN_TRACING_V2\"] = \"true\"\n",
    "os.environ[\"LANGCHAIN_ENDPOINT\"] = \"https://api.smith.langchain.com\"\n",
    "os.environ[\"LANGCHAIN_PROJECT\"]=LANGCHAIN_PROJECT"
   ]
  },
  {
   "cell_type": "code",
   "execution_count": 12,
   "metadata": {},
   "outputs": [],
   "source": [
    "from langchain_huggingface import HuggingFaceEmbeddings\n",
    "embeddings=HuggingFaceEmbeddings(model_name=\"all-MiniLM-L6-v2\")"
   ]
  },
  {
   "cell_type": "code",
   "execution_count": 13,
   "metadata": {},
   "outputs": [],
   "source": [
    "from langchain_groq import ChatGroq\n",
    "llm=ChatGroq(model_name=\"Gemma2-9b-It\")"
   ]
  },
  {
   "cell_type": "code",
   "execution_count": 14,
   "metadata": {},
   "outputs": [
    {
     "data": {
      "text/plain": [
       "AIMessage(content=\"As a large language model, I don't have feelings or experiences like humans do. However, I'm here and ready to assist you!\\n\\nHow can I help you today? 😊\\n\", additional_kwargs={}, response_metadata={'token_usage': {'completion_tokens': 42, 'prompt_tokens': 15, 'total_tokens': 57, 'completion_time': 0.076363636, 'prompt_time': 0.000208389, 'queue_time': 0.099342132, 'total_time': 0.076572025}, 'model_name': 'Gemma2-9b-It', 'system_fingerprint': 'fp_10c08bf97d', 'finish_reason': 'stop', 'logprobs': None}, id='run-44c891e1-2223-4250-a2c1-270675ca6a2b-0', usage_metadata={'input_tokens': 15, 'output_tokens': 42, 'total_tokens': 57})"
      ]
     },
     "execution_count": 14,
     "metadata": {},
     "output_type": "execute_result"
    }
   ],
   "source": [
    "llm.invoke(\"hi,how are you?\")\n"
   ]
  },
  {
   "cell_type": "markdown",
   "metadata": {},
   "source": [
    "## Predefined Tools"
   ]
  },
  {
   "cell_type": "code",
   "execution_count": 17,
   "metadata": {},
   "outputs": [
    {
     "name": "stdout",
     "output_type": "stream",
     "text": [
      "Page: Jackie Chan\n",
      "Summary: Fang Shilong  (born Chan Kong-sang; 7 April 1954), known professionally as Jackie Chan, is a Hong Kong actor, director, writer, producer, martial artist, and stuntman known for his slapstick -  acrobatic fighting style, comic timing, and innovative stunts, which he typically performs himself. Before entering the film industry, he was one of the Seven Little Fortunes from the China Drama Academy at the Peking Opera School, where he studied acrobatics, martial arts, and acting. In a film career spanning more than sixty years, he has appeared in over 150 domestic and international movies. Chan is regarded as one of the most iconic and influential martial artists in the history of cinema.\n",
      "After appearing in many Hong Kong films as a stuntman, Chan's first major breakthrough was the 1978 kung fu action comedy film Snake in the Eagle's Shadow. He then starred in similar kung fu action comedy films such as 1978's Drunken Master and 1980's The Young Master. In 1979, he made his directorial debut with The Fearless Hyena, which was a box office success. Throughout the 1980s, he was part of the  \"Three Dragons\" along with Sammo Hung and Yuen Biao; the three starred in six Hong Kong films together. 1983's Project A saw the official formation of the Jackie Chan Stunt Team and established Chan's signature style of elaborate, dangerous stunts combined with martial arts and slapstick humor, a style he further developed in a more modern setting with 1984's Wheels on Meals and 1985's Police Story. Rumble in the Bronx (1995), which had a successful worldwide theatrical run, brought Chan into the North American mainstream. He gained international fame for portraying Chief Inspector Lee in the American buddy cop action comedy film Rush Hour (1998), a role he reprised in two sequels. \n",
      "Chan continued to work both in Hollywood and Hong Kong cinema, appearing in the well-received Shanghai Noon (2000) and Shanghai Knights (2003) in the Shanghai film series, New Police Story (2004), Rob-B-Hood (2006), Little Big Soldier (2010), and Shaolin (2011), among others. The US-China co-production The Forbidden Kingdom (2008) marked his first collaboration with fellow martial arts star Jet Li. He has played martial arts mentor Mr. Han in two Karate Kid films, the 2010 remake The Karate Kid and the upcoming Karate Kid: Legends (2025). For CZ12 (2012), he earned two Guinness World Records for \"Most Stunts Performed by a Living Actor\" and \"Most Credits in One Movie\". His against type performances include Shinjuku Incident (2009) and The Foreigner (2017). His voice acting work includes all three Chinese versions of Mulan (1998), the first three films in the Kung Fu Panda franchise (2008-2016), and Teenage Mutant Ninja Turtles: Mutant Mayhem (2023). The animated television series Jackie Chan Adventures (2000-2005) focuses on a fictionalized version of Chan.\n",
      "Chan is one of the most recognizable and influential film personalities in the world, with a widespread global following in both the Eastern and Western hemispheres. He has received fame stars on the Hong Kong Avenue of Stars and the Hollywood Walk of Fame, as well as an honorary Academy Award for his \"extraordinary achievements\" in film. Chan has been referenced in various pop songs, cartoons, films, and video games. He is an operatically trained vocalist and is also a Cantopop and Mandopop star, having released a number of music albums and sung many of the theme songs for the films in which he has starred. He is also a globally known philanthropist and has been named one of the top 10 most charitable celebrities by Forbes magazine. In 2004, film scholar Andrew Willis stated that Chan was perhaps the \"most recognized film star in the world.\" In 2015, Forbes estimated his net worth to be $350 million, and as of 2016, he was the second-highest-paid actor in the world.\n",
      "\n",
      "\n",
      "\n",
      "Page: Jackie Chan filmography\n",
      "Summary: Jackie Chan began his film career as an extra child actor in the 1962 film Big an\n"
     ]
    }
   ],
   "source": [
    "from langchain_community.tools import WikipediaQueryRun\n",
    "from langchain_community.utilities import WikipediaAPIWrapper\n",
    "api_wrapper = WikipediaAPIWrapper()\n",
    "wiki = WikipediaQueryRun(api_wrapper=api_wrapper)\n",
    "print(wiki.run({\"query\": \"Jackie Chan\"}))"
   ]
  },
  {
   "cell_type": "code",
   "execution_count": 18,
   "metadata": {},
   "outputs": [
    {
     "data": {
      "text/plain": [
       "[{'url': 'https://www.cnn.com/2024/04/15/india/modi-profile-india-election-intl-hnk-dst/index.html',\n",
       "  'content': \"Narendra Modi was born in 1950, three years after India's independence, to mother Hiraben and father Damodardas, a teaseller, in the western state of Gujarat. His entry into politics began at just\"},\n",
       " {'url': 'https://www.britannica.com/biography/Narendra-Modi',\n",
       "  'content': 'In 1990 Modi was one of the BJP members who participated in a coalition government in the state, and he helped the BJP achieve success in the 1995 state legislative assembly elections that in March allowed the party to form the first-ever BJP-controlled government in India. He remained in that office for another three years, but in October 2001 he replaced the incumbent Gujarat chief minister, fellow BJP member Keshubhai Patel, after Patel had been held responsible for the state government’s poor response in the aftermath of the massive Bhuj earthquake in Gujarat earlier that year that killed more than 20,000 people. Projecting a manifesto for growth and development in Gujarat, the BJP was again victorious in the 2007 state assembly elections, with a seat total of 117, and the party prevailed again in the 2012 polls, garnering 115 seats. He was accused of condoning the violence or, at least, of doing little to stop the killing of more than 1,000 people, mostly Muslims, that ensued after dozens of Hindu passengers died when their train was set on fire in the city of Godhra. In 2005 the United States declined to issue him a diplomatic visa on the grounds that he was responsible for the 2002 riots, and the United Kingdom also criticized his role in 2002.'},\n",
       " {'url': 'https://www.pmindia.gov.in/en/pms-profile/',\n",
       "  'content': 'Shri Narendra Modi was sworn-in as India’s Prime Minister for the third time on 9th June 2024, following another decisive victory in the 2024 Parliamentary elections. The first ever Prime Minister to be born after Independence, Shri Modi has previously served as the Prime Minister of India from 2014 to 2019, and from 2019 to 2024. Leading international agencies have noted that under the leadership of PM Narendra Modi, India has been eliminating poverty at record pace. In June 2024, after assuming office for the third term, one of the first decisions of the Cabinet was to assist 3 crore additional rural and urban households for the construction of houses, underscoring Shri Narendra Modi’s commitment to addressing the nation’s housing needs and ensuring dignity and a quality life for every citizen. PM Modi launched the ‘Make in India’ initiative to turn India into an international manufacturing powerhouse.'},\n",
       " {'url': 'https://www.studyiq.com/articles/narendra-modi-biography/',\n",
       "  'content': \"Here is a summary of Narendra Modi Education:\\nAfter his education, Narendra Modi worked in various capacities, including as a pracharak (campaigner) for the Rashtriya Swayamsevak Sangh (RSS), a right-wing Hindu nationalist organization, and later in the Bharatiya Janata Party (BJP), where he rose through the ranks to become the Chief Minister of Gujarat in 2001.\\n Following are the areas in which Narendra Modi has done some or other types of Major work:\\nBooks written by Narendra Modi\\nJyotipunj\\nNarendra Modi describes all the persons who, in his opinion, inspired him and had a significant impact on his work in “Jyotipunj.” Narendra Modi: Major Achievements and Decisions\\nDemonetisation\\nGST bill\\nAbolition of Article 370\\nThe Modi administration repealed Article 370, which gave Jammu and Kashmir special status, and proposed splitting the state into two union territories, Jammu and Kashmir and Ladakh. Table of Contents\\nNarendra Modi Biography\\nPrime Minister Narendra Modi: Narendra Damodardas Modi (Narendra Modi) is the full name of the prime minister. Shri Narendra Modi was sworn-in as India's Prime Minister on 30th May 2019, marking the start of his second term in office\\nWho is the wife of Narendra Damodardas Modi?\\n\"},\n",
       " {'url': 'https://en.wikipedia.org/wiki/Narendra_Modi',\n",
       "  'content': 'In the campaign, the opposition targeted Modi on allegations of corruption over the Rafale deal with the Government of France, highlighting the controversy surrounding the deal.[227] Modi\\'s campaign focused on defence and national security, especially after the Pulwama attack and the retaliatory Balakot airstrike, which was counted as an achievement of his administration.[17][228] Other topics in the campaign were development and good foreign relations in the first premiership.[229]\\nModi contested the Lok Sabha election as a candidate for Varanasi; he won the seat by a margin of 479,505 votes, defeating Shalini Yadav of the Samajwadi Party (SP), who stood as a candidate for the SP-BSP alliance.[230][231] Modi was unanimously appointed prime minister for a second time by the National Democratic Alliance[232] after the alliance won the election for the second time with 353 seats in the Lok Sabha; the BJP alone won 303 seats.[233][234]\\nPrime Minister\\nAfter the Bharatiya Janata Party-led National Democratic Alliance (NDA) won a landslide in the 2014 Lok Sabha election, Modi was sworn in as Prime Minister (PM) of India on 26 May 2014, becoming the first Indian PM to be born after the country\\'s independence from the British Empire in 1947.[235] Modi\\'s second term as PM began in 2019 following the NDA\\'s 2019 Lok Sabha election win. The percentage of the budget spent on children\\'s nutrition, education, health, and associated programmes was almost halved between 2014 and 2022.[296] Capital expenditure on transport infrastructure significantly rose, increasing from less than 0.4 percent of GDP in 2014 to 1.7 percent in 2023.[297]\\nIn September 2014, Modi introduced the Make in India initiative to encourage foreign companies to manufacture products in India with the goal of turning the country into a global manufacturing hub.[241][298] Supporters of economic liberalisation supported the initiative but critics said it would allow foreign corporations to capture a greater share of the Indian market.[241] Modi\\'s administration passed a land-reform bill that allowed it to acquire private agricultural land without conducting a social impact assessment, and without the consent of the farmers who owned it.[299] The bill was passed via an executive order after it faced opposition in Parliament but was eventually allowed to lapse.[238] Modi\\'s government passed the Goods and Services Tax, the biggest tax reform in the country since independence, subsuming around 17 taxes and became effective on 1 July 2017.[300]\\n Modi has been called a fashion icon for his signature crisply ironed, half-sleeved kurta, and for a suit with his name repeatedly embroidered in the pinstripes, which he wore during a state visit by US President Barack Obama, which drew public and media attention, and criticism.[430][431][432] Scholars and biographers have described Modi\\'s personality as energetic, eccentric, arrogant and charismatic.[38][433]\\nThe nomination of Modi for the prime-ministership drew attention to his reputation as \"one of contemporary India\\'s most controversial and divisive politicians\".[185][434][435] During the 2014 election campaign, the BJP projected an image of Modi as a strong, masculine leader who would be able to take difficult decisions.[185][205][207][211][212] Campaigns in which he has participated have focused on Modi as an individual, an unusual tactic for the BJP and RSS.[207] Modi has relied upon his reputation as a politician able to bring about economic growth and development.[436] Modi\\'s role in the 2002 Gujarat riots continues to attract criticism and controversy.[9] In 2022, the Supreme Court dismissed a petition by Zakia Jafri in which she challenged the clean chit given to Modi in the riots by the SIT, and upheld previous rulings that no evidence against him was found.[142][143][144]\\nLater terms as Chief Minister\\nFollowing the violence, calls for Modi to resign as chief minister were made from politicians within and outside the state, including leaders of Dravida Munnetra Kazhagam and the Telugu Desam Party—partners in the BJP-led National Democratic Alliance coalition—and opposition parties stalled Parliament over the issue.[145] Modi submitted his resignation at the April 2002 BJP national executive meeting in Goa but it was not accepted.[146] In an interview on 26 August 2023, Prime Minister Modi expressed optimism about the G20 countries\\' evolving agenda under India\\'s presidency, shifting toward a human-centric development approach that aligns with the concerns of the Global South, including addressing climate change, debt restructuring\\nthrough the G20\\'s Common Framework for Debt, and a strategy for regulation of global cryptocurrencies.[366][367][368]\\nNews sources CNN, Reuters and the Washington Post reported that in the lead up to the G20 meeting, the Indian authorities, including the Archaeological Survey of India embarked on a mass demolition drive against homeless shelters and slum neighborhoods across New Delhi resulting in the eviction of its marginalized residents[369][370][371]'}]"
      ]
     },
     "execution_count": 18,
     "metadata": {},
     "output_type": "execute_result"
    }
   ],
   "source": [
    "from langchain_community.tools.tavily_search import TavilySearchResults\n",
    "search = TavilySearchResults()\n",
    "search.invoke({\"query\": \"who is  Narendra Modi?\"})"
   ]
  },
  {
   "cell_type": "markdown",
   "metadata": {},
   "source": [
    "## Create a custom Tool"
   ]
  },
  {
   "cell_type": "code",
   "execution_count": 19,
   "metadata": {},
   "outputs": [],
   "source": [
    "from langchain.agents import tool\n",
    "@tool\n",
    "def get_word_length(word: str) -> int:\n",
    "    \"\"\"Returns the length of a word.\"\"\"\n",
    "    return len(word)"
   ]
  },
  {
   "cell_type": "code",
   "execution_count": 21,
   "metadata": {},
   "outputs": [
    {
     "name": "stdout",
     "output_type": "stream",
     "text": [
      "{'word': {'title': 'Word', 'type': 'string'}}\n",
      "Returns the length of a word.\n",
      "get_word_length\n"
     ]
    }
   ],
   "source": [
    "print(get_word_length.args)\n",
    "print(get_word_length.description)\n",
    "\n",
    "print(get_word_length.name)"
   ]
  },
  {
   "cell_type": "code",
   "execution_count": 22,
   "metadata": {},
   "outputs": [],
   "source": [
    "@tool\n",
    "def multiply(a: int, b: int) -> int:\n",
    "    \"\"\"Multiply two numbers.\"\"\"\n",
    "    return a * b"
   ]
  },
  {
   "cell_type": "code",
   "execution_count": 23,
   "metadata": {},
   "outputs": [
    {
     "data": {
      "text/plain": [
       "200"
      ]
     },
     "execution_count": 23,
     "metadata": {},
     "output_type": "execute_result"
    }
   ],
   "source": [
    "multiply.invoke({\"a\":10,\"b\":20})"
   ]
  },
  {
   "cell_type": "markdown",
   "metadata": {},
   "source": [
    "## Agents (Legacy)"
   ]
  },
  {
   "cell_type": "code",
   "execution_count": 24,
   "metadata": {},
   "outputs": [],
   "source": [
    "from langchain.agents import AgentType\n",
    "from langchain.agents import load_tools \n",
    "from langchain.agents import initialize_agent"
   ]
  },
  {
   "cell_type": "code",
   "execution_count": 25,
   "metadata": {},
   "outputs": [],
   "source": [
    "tool=load_tools([\"wikipedia\"],llm=llm)\n"
   ]
  },
  {
   "cell_type": "code",
   "execution_count": 26,
   "metadata": {},
   "outputs": [
    {
     "name": "stderr",
     "output_type": "stream",
     "text": [
      "/tmp/ipykernel_18356/2807305378.py:1: LangChainDeprecationWarning: LangChain agents will continue to be supported, but it is recommended for new use cases to be built with LangGraph. LangGraph offers a more flexible and full-featured framework for building agents, including support for tool-calling, persistence of state, and human-in-the-loop workflows. See LangGraph documentation for more details: https://langchain-ai.github.io/langgraph/. Refer here for its pre-built ReAct agent: https://langchain-ai.github.io/langgraph/how-tos/create-react-agent/\n",
      "  agent=initialize_agent(tool,llm,agent=AgentType.ZERO_SHOT_REACT_DESCRIPTION,verbose=True)\n"
     ]
    }
   ],
   "source": [
    "agent=initialize_agent(tool,llm,agent=AgentType.ZERO_SHOT_REACT_DESCRIPTION,verbose=True)\n"
   ]
  },
  {
   "cell_type": "code",
   "execution_count": 28,
   "metadata": {},
   "outputs": [
    {
     "name": "stdout",
     "output_type": "stream",
     "text": [
      "\n",
      "\n",
      "\u001b[1m> Entering new AgentExecutor chain...\u001b[0m\n",
      "\u001b[32;1m\u001b[1;3mThought: I need to search Wikipedia for information about Llama and its creators.\n",
      "Action: wikipedia\n",
      "Action Input: Llama (large language model) \u001b[0m\n",
      "Observation: \u001b[36;1m\u001b[1;3mPage: Llama (language model)\n",
      "Summary: Llama (Large Language Model Meta AI, formerly stylized as LLaMA) is a family of autoregressive large language models (LLMs) released by Meta AI starting in February 2023. The latest version is Llama 3.3, released in December 2024.\n",
      "Model weights for the first version of Llama were made available to the research community under a non-commercial license, and access was granted on a case-by-case basis. Unauthorized copies of the model were shared via BitTorrent. In response, Meta AI issued DMCA takedown requests against repositories sharing the link on GitHub. Subsequent versions of Llama were made accessible outside academia and released under licenses that permitted some commercial use. Llama models are trained at different parameter sizes, ranging between 1B and 405B. Originally, Llama was only available as a foundation model. Starting with Llama 2, Meta AI started releasing instruction fine-tuned versions alongside foundation models.\n",
      "Alongside the release of Llama 3, Meta added virtual assistant features to Facebook and WhatsApp in select regions, and a standalone website. Both services use a Llama 3 model.\n",
      "\n",
      "\n",
      "\n",
      "Page: Large language model\n",
      "Summary: A large language model (LLM) is a type of computational model designed for natural language processing tasks such as language generation. As language models, LLMs acquire these abilities by learning statistical relationships from vast amounts of text during a self-supervised and semi-supervised training process.\n",
      "The largest and most capable LLMs are artificial neural networks built with a decoder-only transformer-based architecture, enabling efficient processing and generation of large-scale text data. Modern models can be fine-tuned for specific tasks or guided by prompt engineering. These models acquire predictive power regarding syntax, semantics, and ontologies inherent in human language corpora, but they also inherit inaccuracies and biases present in the data they are trained in.\n",
      "\n",
      "Page: Llama.cpp\n",
      "Summary: llama.cpp is an open source software library that performs inference on various large language models such as Llama. It is co-developed alongside the GGML project, a general-purpose tensor library. \n",
      "Command-line tools are included with the library, alongside a server with a simple web interface.\n",
      "\n",
      "\u001b[0m\n",
      "Thought:\u001b[32;1m\u001b[1;3mThought: I found the answer to who created Llama in the Wikipedia page for Llama (language model). \n",
      "Final Answer: Llama was created by Meta AI. \n",
      "\u001b[0m\n",
      "\n",
      "\u001b[1m> Finished chain.\u001b[0m\n"
     ]
    },
    {
     "data": {
      "text/plain": [
       "{'input': 'what is llama and who created this llm model?',\n",
       " 'output': 'Llama was created by Meta AI.'}"
      ]
     },
     "execution_count": 28,
     "metadata": {},
     "output_type": "execute_result"
    }
   ],
   "source": [
    "agent.invoke(\"what is llama and who created this llm model?\")\n"
   ]
  },
  {
   "cell_type": "markdown",
   "metadata": {},
   "source": [
    "## More tools and agents"
   ]
  },
  {
   "cell_type": "code",
   "execution_count": 29,
   "metadata": {},
   "outputs": [],
   "source": [
    "from langchain_community.tools.tavily_search import TavilySearchResults\n"
   ]
  },
  {
   "cell_type": "code",
   "execution_count": 30,
   "metadata": {},
   "outputs": [],
   "source": [
    "search = TavilySearchResults()\n"
   ]
  },
  {
   "cell_type": "code",
   "execution_count": 31,
   "metadata": {},
   "outputs": [
    {
     "data": {
      "text/plain": [
       "[{'url': 'https://www.weatherapi.com/',\n",
       "  'content': \"{'location': {'name': 'San Francisco', 'region': 'California', 'country': 'United States of America', 'lat': 37.775, 'lon': -122.4183, 'tz_id': 'America/Los_Angeles', 'localtime_epoch': 1734468781, 'localtime': '2024-12-17 12:53'}, 'current': {'last_updated_epoch': 1734468300, 'last_updated': '2024-12-17 12:45', 'temp_c': 12.2, 'temp_f': 54.0, 'is_day': 1, 'condition': {'text': 'Partly cloudy', 'icon': '//cdn.weatherapi.com/weather/64x64/day/116.png', 'code': 1003}, 'wind_mph': 5.6, 'wind_kph': 9.0, 'wind_degree': 33, 'wind_dir': 'NNE', 'pressure_mb': 1028.0, 'pressure_in': 30.35, 'precip_mm': 0.0, 'precip_in': 0.0, 'humidity': 83, 'cloud': 50, 'feelslike_c': 11.4, 'feelslike_f': 52.6, 'windchill_c': 12.2, 'windchill_f': 53.9, 'heatindex_c': 12.8, 'heatindex_f': 55.0, 'dewpoint_c': 10.8, 'dewpoint_f': 51.4, 'vis_km': 16.0, 'vis_miles': 9.0, 'uv': 2.2, 'gust_mph': 7.9, 'gust_kph': 12.8}}\"},\n",
       " {'url': 'https://weathershogun.com/weather/usa/ca/san-francisco/480/december',\n",
       "  'content': 'December 2024 Weather in San Francisco, CA San Francisco, CA Today Hourly 7 days 30 days December December 2024 Weather | San Francisco, California Today 12/12 Day 57° Night 52° 100Fri 12/13 Day 61° Night 54° 55Sat 12/14 Day 59° Night 45° 100Sun 12/15 Day 57° Night 45° 0Mon 12/16 Day 57° Night 46° 83Tue 12/17 Day 61° Night 48° 21Wed 12/18 Day 59° Night 46° 0Thu 12/19 Day 59° Night 46° 0Fri 12/20 Day 61° Night 52° 0Sat 12/21 Day 61° Night 52° 78Sun 12/22 Day 61° Night 52° 5Mon 12/23 Day 63° Night 50° 1Tue 12/24 Day 61° Night 52° 0Wed 12/25 Day 57° Night 46° 20Thu 12/26 Day 54° Night 45° 25Fri 12/27 Day 55° Night 45° 25Sat 12/28 Day 57° Night 48° 25Sun 12/29 Day 59° Night 50° 25Mon 12/30 Day 59° Night 50° 25Tue 12/31 Day 57° Night 48° 25 Today 7 days 30 days'},\n",
       " {'url': 'https://www.weather25.com/north-america/usa/california/san-francisco?page=month&month=December',\n",
       "  'content': 'San Francisco weather in December 2024 | Weather25.com San Francisco weather in December 2024 | San Francisco in December | Temperatures in San Francisco in December Weather in San Francisco in December - FAQ The average temperature in San Francisco in December is 8/14° C. On average, there are 4 rainy days in San Francisco during December. Weather wise, is December a good time to visit San Francisco? The weather in San Francisco in December is good. On average, there are 0 snowy days in San Francisco in December. More about the weather in San Francisco San Francisco 14 day weather Long range weather for San Francisco San Francisco weather in November San Francisco Webcam Weather tomorrow Hotels in San Francisco'},\n",
       " {'url': 'https://world-weather.info/forecast/usa/san_francisco/17-december/',\n",
       "  'content': 'Weather Weather in San Francisco Weather in San Francisco, December 17 Weather Forecast for December 17 in San Francisco, California - temperature, wind, atmospheric pressure, humidity and precipitations. and temperature °F  RealFeel °F Atmospheric Night   +50°    +50°    30.1    4.7 78% Day +61°    +61°    30  4.3 63% and temperature °F  RealFeel °F Atmospheric Night   +54°    +54°    30  2.2 83% Day +55°    +55°    30  4.5 77% Meteorological sensitivity index    3   Meteosensitive people are likely to experience weather-related symptoms. Geomagnetic conditions  2   Solar activity may affect some sensitive people. Night   +46°    +45°    30.1    3.1 84% Day +54°    +54°    30  2.9 68% Meteorological sensitivity index    1   Weather situation is generally favorable to meteosensitive people. Geomagnetic conditions  1   Weak solar activity may affect some highly sensitive people.'},\n",
       " {'url': 'https://world-weather.info/forecast/usa/san_francisco/december-2024/',\n",
       "  'content': 'Detailed ⚡ San Francisco Weather Forecast for December 2024 - day/night 🌡️ temperatures, precipitations - World-Weather.info ... Widgets °F. World; United States; California; Weather in San Francisco; Weather in San Francisco in December 2024. San Francisco Weather Forecast for December 2024 is based on long term prognosis and'}]"
      ]
     },
     "execution_count": 31,
     "metadata": {},
     "output_type": "execute_result"
    }
   ],
   "source": [
    "search.invoke(\"what is the weather in SF\")\n"
   ]
  },
  {
   "cell_type": "code",
   "execution_count": 32,
   "metadata": {},
   "outputs": [],
   "source": [
    "tools = [search]"
   ]
  },
  {
   "cell_type": "code",
   "execution_count": 33,
   "metadata": {},
   "outputs": [],
   "source": [
    "from langchain import hub\n"
   ]
  },
  {
   "cell_type": "code",
   "execution_count": 34,
   "metadata": {},
   "outputs": [],
   "source": [
    "prompt=hub.pull(\"hwchase17/openai-functions-agent\")\n"
   ]
  },
  {
   "cell_type": "code",
   "execution_count": 35,
   "metadata": {},
   "outputs": [
    {
     "data": {
      "text/plain": [
       "ChatPromptTemplate(input_variables=['agent_scratchpad', 'input'], optional_variables=['chat_history'], input_types={'chat_history': list[typing.Annotated[typing.Union[typing.Annotated[langchain_core.messages.ai.AIMessage, Tag(tag='ai')], typing.Annotated[langchain_core.messages.human.HumanMessage, Tag(tag='human')], typing.Annotated[langchain_core.messages.chat.ChatMessage, Tag(tag='chat')], typing.Annotated[langchain_core.messages.system.SystemMessage, Tag(tag='system')], typing.Annotated[langchain_core.messages.function.FunctionMessage, Tag(tag='function')], typing.Annotated[langchain_core.messages.tool.ToolMessage, Tag(tag='tool')], typing.Annotated[langchain_core.messages.ai.AIMessageChunk, Tag(tag='AIMessageChunk')], typing.Annotated[langchain_core.messages.human.HumanMessageChunk, Tag(tag='HumanMessageChunk')], typing.Annotated[langchain_core.messages.chat.ChatMessageChunk, Tag(tag='ChatMessageChunk')], typing.Annotated[langchain_core.messages.system.SystemMessageChunk, Tag(tag='SystemMessageChunk')], typing.Annotated[langchain_core.messages.function.FunctionMessageChunk, Tag(tag='FunctionMessageChunk')], typing.Annotated[langchain_core.messages.tool.ToolMessageChunk, Tag(tag='ToolMessageChunk')]], FieldInfo(annotation=NoneType, required=True, discriminator=Discriminator(discriminator=<function _get_type at 0x799daff02dd0>, custom_error_type=None, custom_error_message=None, custom_error_context=None))]], 'agent_scratchpad': list[typing.Annotated[typing.Union[typing.Annotated[langchain_core.messages.ai.AIMessage, Tag(tag='ai')], typing.Annotated[langchain_core.messages.human.HumanMessage, Tag(tag='human')], typing.Annotated[langchain_core.messages.chat.ChatMessage, Tag(tag='chat')], typing.Annotated[langchain_core.messages.system.SystemMessage, Tag(tag='system')], typing.Annotated[langchain_core.messages.function.FunctionMessage, Tag(tag='function')], typing.Annotated[langchain_core.messages.tool.ToolMessage, Tag(tag='tool')], typing.Annotated[langchain_core.messages.ai.AIMessageChunk, Tag(tag='AIMessageChunk')], typing.Annotated[langchain_core.messages.human.HumanMessageChunk, Tag(tag='HumanMessageChunk')], typing.Annotated[langchain_core.messages.chat.ChatMessageChunk, Tag(tag='ChatMessageChunk')], typing.Annotated[langchain_core.messages.system.SystemMessageChunk, Tag(tag='SystemMessageChunk')], typing.Annotated[langchain_core.messages.function.FunctionMessageChunk, Tag(tag='FunctionMessageChunk')], typing.Annotated[langchain_core.messages.tool.ToolMessageChunk, Tag(tag='ToolMessageChunk')]], FieldInfo(annotation=NoneType, required=True, discriminator=Discriminator(discriminator=<function _get_type at 0x799daff02dd0>, custom_error_type=None, custom_error_message=None, custom_error_context=None))]]}, partial_variables={'chat_history': []}, metadata={'lc_hub_owner': 'hwchase17', 'lc_hub_repo': 'openai-functions-agent', 'lc_hub_commit_hash': 'a1655024b06afbd95d17449f21316291e0726f13dcfaf990cc0d18087ad689a5'}, messages=[SystemMessagePromptTemplate(prompt=PromptTemplate(input_variables=[], input_types={}, partial_variables={}, template='You are a helpful assistant'), additional_kwargs={}), MessagesPlaceholder(variable_name='chat_history', optional=True), HumanMessagePromptTemplate(prompt=PromptTemplate(input_variables=['input'], input_types={}, partial_variables={}, template='{input}'), additional_kwargs={}), MessagesPlaceholder(variable_name='agent_scratchpad')])"
      ]
     },
     "execution_count": 35,
     "metadata": {},
     "output_type": "execute_result"
    }
   ],
   "source": [
    "prompt"
   ]
  },
  {
   "cell_type": "code",
   "execution_count": 36,
   "metadata": {},
   "outputs": [
    {
     "data": {
      "text/plain": [
       "[SystemMessagePromptTemplate(prompt=PromptTemplate(input_variables=[], input_types={}, partial_variables={}, template='You are a helpful assistant'), additional_kwargs={}),\n",
       " MessagesPlaceholder(variable_name='chat_history', optional=True),\n",
       " HumanMessagePromptTemplate(prompt=PromptTemplate(input_variables=['input'], input_types={}, partial_variables={}, template='{input}'), additional_kwargs={}),\n",
       " MessagesPlaceholder(variable_name='agent_scratchpad')]"
      ]
     },
     "execution_count": 36,
     "metadata": {},
     "output_type": "execute_result"
    }
   ],
   "source": [
    "prompt.messages\n"
   ]
  },
  {
   "cell_type": "code",
   "execution_count": 37,
   "metadata": {},
   "outputs": [],
   "source": [
    "from langchain.agents import create_tool_calling_agent\n",
    "agent = create_tool_calling_agent(llm, tools, prompt)"
   ]
  },
  {
   "cell_type": "code",
   "execution_count": 38,
   "metadata": {},
   "outputs": [],
   "source": [
    "from langchain.agents import AgentExecutor\n",
    "agent_executor = AgentExecutor(agent=agent, tools=tools, verbose=True)"
   ]
  },
  {
   "cell_type": "code",
   "execution_count": 39,
   "metadata": {},
   "outputs": [
    {
     "name": "stdout",
     "output_type": "stream",
     "text": [
      "\n",
      "\n",
      "\u001b[1m> Entering new AgentExecutor chain...\u001b[0m\n",
      "\u001b[32;1m\u001b[1;3mI am doing well, thank you. How can I help you today? \n",
      "\u001b[0m\n",
      "\n",
      "\u001b[1m> Finished chain.\u001b[0m\n"
     ]
    },
    {
     "data": {
      "text/plain": [
       "{'input': 'hello how are you?',\n",
       " 'output': 'I am doing well, thank you. How can I help you today? \\n'}"
      ]
     },
     "execution_count": 39,
     "metadata": {},
     "output_type": "execute_result"
    }
   ],
   "source": [
    "agent_executor.invoke({\"input\": \"hello how are you?\"})\n"
   ]
  },
  {
   "cell_type": "code",
   "execution_count": 40,
   "metadata": {},
   "outputs": [
    {
     "name": "stdout",
     "output_type": "stream",
     "text": [
      "\n",
      "\n",
      "\u001b[1m> Entering new AgentExecutor chain...\u001b[0m\n",
      "\u001b[32;1m\u001b[1;3m\n",
      "Invoking: `tavily_search_results_json` with `{'query': 'weather in new york'}`\n",
      "\n",
      "\n",
      "\u001b[0m\u001b[36;1m\u001b[1;3m[{'url': 'https://www.weatherapi.com/', 'content': \"{'location': {'name': 'New York', 'region': 'New York', 'country': 'United States of America', 'lat': 40.7142, 'lon': -74.0064, 'tz_id': 'America/New_York', 'localtime_epoch': 1734469135, 'localtime': '2024-12-17 15:58'}, 'current': {'last_updated_epoch': 1734468300, 'last_updated': '2024-12-17 15:45', 'temp_c': 8.9, 'temp_f': 48.1, 'is_day': 1, 'condition': {'text': 'Overcast', 'icon': '//cdn.weatherapi.com/weather/64x64/day/122.png', 'code': 1009}, 'wind_mph': 12.1, 'wind_kph': 19.4, 'wind_degree': 261, 'wind_dir': 'W', 'pressure_mb': 1020.0, 'pressure_in': 30.13, 'precip_mm': 0.0, 'precip_in': 0.0, 'humidity': 94, 'cloud': 100, 'feelslike_c': 6.7, 'feelslike_f': 44.1, 'windchill_c': 6.7, 'windchill_f': 44.1, 'heatindex_c': 8.9, 'heatindex_f': 48.1, 'dewpoint_c': 8.1, 'dewpoint_f': 46.5, 'vis_km': 10.0, 'vis_miles': 6.0, 'uv': 0.4, 'gust_mph': 18.2, 'gust_kph': 29.3}}\"}, {'url': 'https://world-weather.info/forecast/usa/new_york/december-2024/', 'content': 'Detailed ⚡ New York City Weather Forecast for December 2024 - day/night 🌡️ temperatures, precipitations - World-Weather.info ... 17 +55° +50° 18 +48° +45° 19 ... Detailed ⚡ New York City Weather Forecast for December 2024 - day/night 🌡️ temperatures, precipitations - World-Weather.info'}, {'url': 'https://www.weather25.com/north-america/usa/new-york?page=month&month=December', 'content': 'New York weather in December 2024 | New York 14 day weather New York weather in December 2024 The weather in New York in December is very cold with temperatures between 1°C and 5°C, warm clothes are a must. | New York in December | Temperatures in New York in December Weather in New York in December - FAQ The average temperature in New York in December is 1/5° C. On average, there are 7 rainy days in New York during December. Weather wise, is December a good time to visit New York? The weather in New York in December is awful. On average, there are 7 snowy days in New York in December. More about the weather in New York'}, {'url': 'https://world-weather.info/forecast/usa/new_york/17-december/', 'content': 'Weather in New York City Weather in New York City, December 17 Weather Forecast for December 17 in New York City, New York - temperature, wind, atmospheric pressure, humidity and precipitations. Night   +52°    +52°    30.1    5.8 87% Day +57°    +57°    30  6.5 68% Meteorological sensitivity index    3   Meteosensitive people are likely to experience weather-related symptoms. Night   +48°    +45°    30.4    4.9 91% Day +50°    +46°    30.1    6.3 91% Meteorological sensitivity index    4   Strong reactions to the weather are possible by meteosensitive people. Influence of pressure   2   Rapid fluctuations in atmospheric pressure are likely to affect meteosensitive people. Night   +39°    +30°    29.6    16.6    88% Day +43°    +37°    29.7    12.5    57% Meteorological sensitivity index    2   Some meteosensitive people may feel mild symptoms due to the weather.'}, {'url': 'https://www.easeweather.com/north-america/united-states/new-york/december', 'content': 'Until now, December 2024 in New York is cooler than usual, with temperatures averaging 5.1 ° F, this is -3.1 ° F below the typical seasonal average. Expect cooler weather in the next days in New York with the forecast suggesting a temperature of 5.9 ° F, lower than the historical average.'}]\u001b[0m\u001b[32;1m\u001b[1;3m\n",
      "Invoking: `tavily_search_results_json` with `{'query': 'weather forecast new york city december 17'}`\n",
      "\n",
      "\n",
      "\u001b[0m\u001b[36;1m\u001b[1;3m[{'url': 'https://www.weatherapi.com/', 'content': \"{'location': {'name': 'New York', 'region': 'New York', 'country': 'United States of America', 'lat': 40.714, 'lon': -74.006, 'tz_id': 'America/New_York', 'localtime_epoch': 1734469090, 'localtime': '2024-12-17 15:58'}, 'current': {'last_updated_epoch': 1734468300, 'last_updated': '2024-12-17 15:45', 'temp_c': 8.9, 'temp_f': 48.1, 'is_day': 1, 'condition': {'text': 'Overcast', 'icon': '//cdn.weatherapi.com/weather/64x64/day/122.png', 'code': 1009}, 'wind_mph': 12.1, 'wind_kph': 19.4, 'wind_degree': 261, 'wind_dir': 'W', 'pressure_mb': 1020.0, 'pressure_in': 30.13, 'precip_mm': 0.0, 'precip_in': 0.0, 'humidity': 94, 'cloud': 100, 'feelslike_c': 6.7, 'feelslike_f': 44.1, 'windchill_c': 6.7, 'windchill_f': 44.1, 'heatindex_c': 8.9, 'heatindex_f': 48.1, 'dewpoint_c': 8.1, 'dewpoint_f': 46.5, 'vis_km': 10.0, 'vis_miles': 6.0, 'uv': 0.4, 'gust_mph': 18.2, 'gust_kph': 29.3}}\"}, {'url': 'https://www.weathertab.com/en/c/e/12/united-states/new-york/new-york-city/', 'content': 'Explore comprehensive December 2024 weather forecasts for New York City, including daily high and low temperatures, precipitation risks, and monthly temperature trends. ... 17 41°F 29°F 5°C-2°C 17% 18 40°F 28°F 4°C-2°C 17%. 19 38°F 28 ... New York City Weather Forecast for Dec 2024 - Risk of Rain Graph ) 90 80 70 60 50 40 30 20 10 /n 1'}, {'url': 'https://world-weather.info/forecast/usa/new_york/december-2024/', 'content': 'Detailed ⚡ New York City Weather Forecast for December 2024 - day/night 🌡️ temperatures, precipitations - World-Weather.info ... 17 +55° +50° 18 +48° +45° 19 ... Detailed ⚡ New York City Weather Forecast for December 2024 - day/night 🌡️ temperatures, precipitations - World-Weather.info'}, {'url': 'https://www.weathertab.com/en/d/e/12/united-states/new-york/new-york-city/', 'content': 'New York City, New York Daily Weather Forecast for December 2024, ... New York City, New York Daily Weather Forecast for December 2024, derived from a dynamic long-range model, offers daily predictions for temperature and rainfall, grounded in over 50 years of privately funded research. ... 17% Sunrise 7:04AM. Sunset 4:28PM'}, {'url': 'https://world-weather.info/forecast/usa/new_york/17-december/', 'content': 'Weather in New York City Weather in New York City, December 17 Weather Forecast for December 17 in New York City, New York - temperature, wind, atmospheric pressure, humidity and precipitations. Night   +52°    +52°    30.1    5.8 87% Day +57°    +57°    30  6.5 68% Meteorological sensitivity index    3   Meteosensitive people are likely to experience weather-related symptoms. Night   +48°    +45°    30.4    4.9 91% Day +50°    +46°    30.1    6.3 91% Meteorological sensitivity index    4   Strong reactions to the weather are possible by meteosensitive people. Influence of pressure   2   Rapid fluctuations in atmospheric pressure are likely to affect meteosensitive people. Night   +39°    +30°    29.6    16.6    88% Day +43°    +37°    29.7    12.5    57% Meteorological sensitivity index    2   Some meteosensitive people may feel mild symptoms due to the weather.'}]\u001b[0m\u001b[32;1m\u001b[1;3mThe weather in New York City on December 17, 2024 will be:\n",
      "\n",
      "Night:  +52°   +52°    30.1    5.8 87%\n",
      "Day: +57°    +57°    30  6.5 68% \n",
      "\n",
      "\n",
      "\u001b[0m\n",
      "\n",
      "\u001b[1m> Finished chain.\u001b[0m\n"
     ]
    },
    {
     "data": {
      "text/plain": [
       "{'input': 'whats the weather in new york?',\n",
       " 'output': 'The weather in New York City on December 17, 2024 will be:\\n\\nNight:  +52°   +52°    30.1    5.8 87%\\nDay: +57°    +57°    30  6.5 68% \\n\\n\\n'}"
      ]
     },
     "execution_count": 40,
     "metadata": {},
     "output_type": "execute_result"
    }
   ],
   "source": [
    "agent_executor.invoke({\"input\": \"whats the weather in new york?\"})\n"
   ]
  },
  {
   "cell_type": "markdown",
   "metadata": {},
   "source": [
    "## RAG as a tool"
   ]
  },
  {
   "cell_type": "code",
   "execution_count": 41,
   "metadata": {},
   "outputs": [
    {
     "name": "stderr",
     "output_type": "stream",
     "text": [
      "USER_AGENT environment variable not set, consider setting it to identify your requests.\n"
     ]
    }
   ],
   "source": [
    "from langchain_community.document_loaders import WebBaseLoader\n",
    "from langchain_community.vectorstores import FAISS\n",
    "from langchain_text_splitters import RecursiveCharacterTextSplitter"
   ]
  },
  {
   "cell_type": "code",
   "execution_count": 42,
   "metadata": {},
   "outputs": [],
   "source": [
    "loader = WebBaseLoader(\"https://blog.langchain.dev/langgraph-studio-the-first-agent-ide/\")\n",
    "docs = loader.load()"
   ]
  },
  {
   "cell_type": "code",
   "execution_count": 43,
   "metadata": {},
   "outputs": [
    {
     "data": {
      "text/plain": [
       "[Document(metadata={'source': 'https://blog.langchain.dev/langgraph-studio-the-first-agent-ide/', 'title': 'LangGraph Studio: The first agent IDE', 'description': 'LangGraph Studio provides a specialized agent IDE for visualizing, interacting with, and debugging complex agentic applications. See how to use it on your desktop today.', 'language': 'en'}, page_content=\"\\n\\n\\nLangGraph Studio: The first agent IDE\\n\\n\\n\\n\\n\\n\\n\\n\\n\\n\\n\\n\\n\\n\\n\\n\\n\\n\\n\\n\\n\\n\\n\\n\\n\\n\\n\\n\\n\\n\\n\\n\\n\\n\\n\\n\\n\\n\\n\\n\\n\\n\\n\\n\\n\\n\\n\\n\\n\\n\\nSkip to content\\n\\n\\n\\n\\n\\n\\n\\n\\n\\n\\n\\n\\n\\n\\n\\n\\nCase Studies\\n\\n\\n\\n\\nIn the Loop\\n\\n\\n\\n\\nLangChain\\n\\n\\n\\n\\nDocs\\n\\n\\n\\n\\nChangelog\\n\\n\\n\\n\\n\\nSign in\\nSubscribe\\n\\n\\n\\n\\n\\n\\n\\n\\n\\n\\n\\n\\n\\n\\n\\n\\n\\n\\n\\nLangGraph Studio: The first agent IDE\\nLangGraph Studio provides a specialized agent IDE for visualizing, interacting with, and debugging complex agentic applications. See how to use it on your desktop today.\\n\\n4 min read\\nAug 1, 2024\\n\\n\\n\\n\\n\\nLLMs have paved the way for the development of new types of agentic applications — and as LLM applications evolve, so must the tooling needed to efficiently develop them. Today, we're announcing LangGraph Studio - the first IDE designed specifically for agent development - in open beta.LangGraph Studio offers a new way to develop LLM applications, providing a specialized agent IDE for visualizing, interacting with, and debugging complex agentic applications. In this blog, we'll give a brief overview of LangGraph and then explore how LangGraph Studio streamlines the development of agentic applications.LangGraph: Balancing agent control with agency  In January 2023, we launched LangGraph, a highly controllable, low-level orchestration framework for building agentic applications. Since then, we've seen  teams build more complex agentic applications for production; in turn, we've heavily invested in LangGraph, leading to a stable 0.1 release this past June.LangGraph features a persistence layer that enables human-in-the-loop interactions, and it excels at building complex (i.e. more than a single LLM call) applications that require highly domain-specific cognitive architecture. Most of the agents we see in production fit this description.LangGraph is fully open source, available in both Python and Javascript. It works with or without LangChain, and integrates seamlessly with LangSmith.LangGraph Studio: Visualize and interact with agent graphs for quick iterationWhile LangGraph offers a new framework for developing agentic applications, we also strongly believe that new tooling is needed to make the development process easier. Building LLM applications differs from traditional software development, requiring different tooling outside of the traditional code editor.Coding is still important to developing LLM applications — after all, production-ready LangGraph applications have complicated custom logic in the nodes and edges of the graphs that are created. We don't aim to replace code editors but, instead, to augment the development experience with tools tailored for LangGraph applications. LangGraph Studio facilitates this by making it easy to visualize and interact with agent graphs, even if development still primarily happens in code. Visualizing graphs helps developers understand their structure. Furthermore, you can modify an agent result (or the logic underlying a specific node) halfway through the agent's trajectory. This creates an iterative process, by letting you interact with and manipulate the state at that point in time.While there is much more to explore, we're excited to introduce LangGraph Studio to start with bringing some of the core features of an agent IDE to the world.How to use LangGraph StudioLangGraph Studio is a desktop app, currently available for Apple Silicon. You can download a version here. Support for more platforms is coming soon.After you download and open LangGraph Studio, you will be prompted to log in with your LangSmith account. All users of LangSmith (including those with free accounts) currently have access to LangGraph Studio while it is in beta. You can sign up for a LangSmith account here.After downloading LangSmith, you can open a directory. At a bare minimum, this directory needs to contain a Python file with a graph defined in it. Next, you will need to create a langgraph.json file containing details such as where the agent is defined, which dependencies to install, and which environment variables to load. This file can be created in the UI, or can exist as a file in the directory already. For an example repository which meets these requirements, see this GitHub repo.After you open a directory, we will build an environment for you agent to run. After it builds, you should see a visualization of the graph along with a box for interacting with the agent.When you interact with the agent, you'll get a stream of real-time information about what steps are happening. You can see the agent decide which tools to call, call those tools, and then continue looping. You can interrupt the agent at any time if veers off course, or you can interrupt the agent to run it in a “debug mode” where it pauses after each step of the graph (so you can walk-through step by step).\\n\\n\\n\\n\\n\\n\\n\\n\\n\\n\\n\\n\\n\\n\\n\\n\\n\\n\\n\\n\\n\\n\\n0:00\\n\\n                            /0:19\\n\\n\\n1×\\n\\n\\n\\n\\n\\n\\n\\n\\n\\n\\n\\n\\n\\n\\n💡At any point, you can interact with the state of the agent.If you don’t like what the agent responded with at a specific step, you can directly modify the response and then continue with that new response. This can be useful for simulating what would have happened if the agent or a tool returned something different.\\n\\n\\n\\n\\n\\n\\n\\n\\n\\n\\n\\n\\n\\n\\n\\n\\n\\n\\n\\n\\n\\n\\n0:00\\n\\n                            /0:14\\n\\n\\n1×\\n\\n\\n\\n\\n\\n\\n\\n\\n\\n\\n\\n\\n\\n\\nYou can also modify the underlying code and then replay the node. LangGraph Studio detects changes to the underlying code files, allowing you to update prompts in your code editor and rerun nodes if an agent responds poorly. This can make it much easier to iterate on long-running agents.\\n\\n\\n\\n\\n\\n\\n\\n\\n\\n\\n\\n\\n\\n\\n\\n\\n\\n\\n\\n\\n\\n\\n0:00\\n\\n                            /0:20\\n\\n\\n1×\\n\\n\\n\\n\\n\\n\\n\\n\\n\\n\\n\\n\\n\\n\\nConclusionBuilding agentic applications differs from traditional software development. While code editors remain important, new IDEs designed for agents are also needed. LangGraph Studio is a step in this direction, and we're excited to see how it enhances your workflow.For more on LangGraph Studio, check out our documentation. You can also watch a video walkthrough on YouTube if that's more your style. You can\\xa0sign up for LangSmith\\xa0today to try out LangGraph Studio for free.We'd also love your feedback - drop us a line at hello@langchain.dev or on Twitter to share your thoughts.\\n\\n\\nJoin our newsletter\\nUpdates from the LangChain team and community\\n\\n\\nEnter your email\\n\\nSubscribe\\n\\nProcessing your application...\\nSuccess! Please check your inbox and click the link to confirm your subscription.\\nSorry, something went wrong. Please try again.\\n\\n\\n\\n\\n\\n\\n\\n\\n\\n\\n\\n\\n\\nSign up\\n\\n\\n\\n\\n\\n            © LangChain Blog 2024\\n        \\n\\n\\n\\n\\n\\n\\n\")]"
      ]
     },
     "execution_count": 43,
     "metadata": {},
     "output_type": "execute_result"
    }
   ],
   "source": [
    "docs"
   ]
  },
  {
   "cell_type": "code",
   "execution_count": 44,
   "metadata": {},
   "outputs": [],
   "source": [
    "documents = RecursiveCharacterTextSplitter(\n",
    "    chunk_size=1000, chunk_overlap=200\n",
    ").split_documents(docs)"
   ]
  },
  {
   "cell_type": "code",
   "execution_count": 45,
   "metadata": {},
   "outputs": [],
   "source": [
    "vector = FAISS.from_documents(documents,embeddings)\n",
    "retriever = vector.as_retriever()"
   ]
  },
  {
   "cell_type": "code",
   "execution_count": 46,
   "metadata": {},
   "outputs": [
    {
     "data": {
      "text/plain": [
       "Document(metadata={'source': 'https://blog.langchain.dev/langgraph-studio-the-first-agent-ide/', 'title': 'LangGraph Studio: The first agent IDE', 'description': 'LangGraph Studio provides a specialized agent IDE for visualizing, interacting with, and debugging complex agentic applications. See how to use it on your desktop today.', 'language': 'en'}, page_content=\"0:00\\n\\n                            /0:20\\n\\n\\n1×\\n\\n\\n\\n\\n\\n\\n\\n\\n\\n\\n\\n\\n\\n\\nConclusionBuilding agentic applications differs from traditional software development. While code editors remain important, new IDEs designed for agents are also needed. LangGraph Studio is a step in this direction, and we're excited to see how it enhances your workflow.For more on LangGraph Studio, check out our documentation. You can also watch a video walkthrough on YouTube if that's more your style. You can\\xa0sign up for LangSmith\\xa0today to try out LangGraph Studio for free.We'd also love your feedback - drop us a line at hello@langchain.dev or on Twitter to share your thoughts.\\n\\n\\nJoin our newsletter\\nUpdates from the LangChain team and community\\n\\n\\nEnter your email\\n\\nSubscribe\\n\\nProcessing your application...\\nSuccess! Please check your inbox and click the link to confirm your subscription.\\nSorry, something went wrong. Please try again.\\n\\n\\n\\n\\n\\n\\n\\n\\n\\n\\n\\n\\n\\nSign up\\n\\n\\n\\n\\n\\n            © LangChain Blog 2024\")"
      ]
     },
     "execution_count": 46,
     "metadata": {},
     "output_type": "execute_result"
    }
   ],
   "source": [
    "retriever.invoke(\"what is langgraph studio?\")[0]\n"
   ]
  },
  {
   "cell_type": "code",
   "execution_count": 49,
   "metadata": {},
   "outputs": [],
   "source": [
    "from langchain.tools.retriever import create_retriever_tool\n",
    "retriever_tool = create_retriever_tool(\n",
    "    retriever,\n",
    "    \"langgraph_studio\",\n",
    "    \"Search for information about LangGraph. For any questions about LangGraph, you must use this tool!\",\n",
    ")\n",
    "\n",
    "search = TavilySearchResults()\n"
   ]
  },
  {
   "cell_type": "code",
   "execution_count": 50,
   "metadata": {},
   "outputs": [],
   "source": [
    "tools = [search, retriever_tool]\n"
   ]
  },
  {
   "cell_type": "code",
   "execution_count": 52,
   "metadata": {},
   "outputs": [
    {
     "data": {
      "text/plain": [
       "ChatPromptTemplate(input_variables=['agent_scratchpad', 'input'], optional_variables=['chat_history'], input_types={'chat_history': list[typing.Annotated[typing.Union[typing.Annotated[langchain_core.messages.ai.AIMessage, Tag(tag='ai')], typing.Annotated[langchain_core.messages.human.HumanMessage, Tag(tag='human')], typing.Annotated[langchain_core.messages.chat.ChatMessage, Tag(tag='chat')], typing.Annotated[langchain_core.messages.system.SystemMessage, Tag(tag='system')], typing.Annotated[langchain_core.messages.function.FunctionMessage, Tag(tag='function')], typing.Annotated[langchain_core.messages.tool.ToolMessage, Tag(tag='tool')], typing.Annotated[langchain_core.messages.ai.AIMessageChunk, Tag(tag='AIMessageChunk')], typing.Annotated[langchain_core.messages.human.HumanMessageChunk, Tag(tag='HumanMessageChunk')], typing.Annotated[langchain_core.messages.chat.ChatMessageChunk, Tag(tag='ChatMessageChunk')], typing.Annotated[langchain_core.messages.system.SystemMessageChunk, Tag(tag='SystemMessageChunk')], typing.Annotated[langchain_core.messages.function.FunctionMessageChunk, Tag(tag='FunctionMessageChunk')], typing.Annotated[langchain_core.messages.tool.ToolMessageChunk, Tag(tag='ToolMessageChunk')]], FieldInfo(annotation=NoneType, required=True, discriminator=Discriminator(discriminator=<function _get_type at 0x799daff02dd0>, custom_error_type=None, custom_error_message=None, custom_error_context=None))]], 'agent_scratchpad': list[typing.Annotated[typing.Union[typing.Annotated[langchain_core.messages.ai.AIMessage, Tag(tag='ai')], typing.Annotated[langchain_core.messages.human.HumanMessage, Tag(tag='human')], typing.Annotated[langchain_core.messages.chat.ChatMessage, Tag(tag='chat')], typing.Annotated[langchain_core.messages.system.SystemMessage, Tag(tag='system')], typing.Annotated[langchain_core.messages.function.FunctionMessage, Tag(tag='function')], typing.Annotated[langchain_core.messages.tool.ToolMessage, Tag(tag='tool')], typing.Annotated[langchain_core.messages.ai.AIMessageChunk, Tag(tag='AIMessageChunk')], typing.Annotated[langchain_core.messages.human.HumanMessageChunk, Tag(tag='HumanMessageChunk')], typing.Annotated[langchain_core.messages.chat.ChatMessageChunk, Tag(tag='ChatMessageChunk')], typing.Annotated[langchain_core.messages.system.SystemMessageChunk, Tag(tag='SystemMessageChunk')], typing.Annotated[langchain_core.messages.function.FunctionMessageChunk, Tag(tag='FunctionMessageChunk')], typing.Annotated[langchain_core.messages.tool.ToolMessageChunk, Tag(tag='ToolMessageChunk')]], FieldInfo(annotation=NoneType, required=True, discriminator=Discriminator(discriminator=<function _get_type at 0x799daff02dd0>, custom_error_type=None, custom_error_message=None, custom_error_context=None))]]}, partial_variables={'chat_history': []}, metadata={'lc_hub_owner': 'hwchase17', 'lc_hub_repo': 'openai-functions-agent', 'lc_hub_commit_hash': 'a1655024b06afbd95d17449f21316291e0726f13dcfaf990cc0d18087ad689a5'}, messages=[SystemMessagePromptTemplate(prompt=PromptTemplate(input_variables=[], input_types={}, partial_variables={}, template='You are a helpful assistant'), additional_kwargs={}), MessagesPlaceholder(variable_name='chat_history', optional=True), HumanMessagePromptTemplate(prompt=PromptTemplate(input_variables=['input'], input_types={}, partial_variables={}, template='{input}'), additional_kwargs={}), MessagesPlaceholder(variable_name='agent_scratchpad')])"
      ]
     },
     "execution_count": 52,
     "metadata": {},
     "output_type": "execute_result"
    }
   ],
   "source": [
    "prompt"
   ]
  },
  {
   "cell_type": "code",
   "execution_count": 51,
   "metadata": {},
   "outputs": [],
   "source": [
    "from langchain.agents import create_tool_calling_agent\n",
    "\n",
    "agent = create_tool_calling_agent(llm, tools, prompt)"
   ]
  },
  {
   "cell_type": "code",
   "execution_count": 53,
   "metadata": {},
   "outputs": [],
   "source": [
    "from langchain.agents import AgentExecutor\n",
    "\n",
    "agent_executor = AgentExecutor(agent=agent, tools=tools, verbose=True)"
   ]
  },
  {
   "cell_type": "code",
   "execution_count": 54,
   "metadata": {},
   "outputs": [
    {
     "name": "stdout",
     "output_type": "stream",
     "text": [
      "\n",
      "\n",
      "\u001b[1m> Entering new AgentExecutor chain...\u001b[0m\n",
      "\u001b[32;1m\u001b[1;3m\n",
      "Invoking: `langgraph_studio` with `{'query': 'What is LangGraph Studio and how to use it?'}`\n",
      "\n",
      "\n",
      "\u001b[0m\u001b[33;1m\u001b[1;3m0:00\n",
      "\n",
      "                            /0:20\n",
      "\n",
      "\n",
      "1×\n",
      "\n",
      "\n",
      "\n",
      "\n",
      "\n",
      "\n",
      "\n",
      "\n",
      "\n",
      "\n",
      "\n",
      "\n",
      "\n",
      "\n",
      "ConclusionBuilding agentic applications differs from traditional software development. While code editors remain important, new IDEs designed for agents are also needed. LangGraph Studio is a step in this direction, and we're excited to see how it enhances your workflow.For more on LangGraph Studio, check out our documentation. You can also watch a video walkthrough on YouTube if that's more your style. You can sign up for LangSmith today to try out LangGraph Studio for free.We'd also love your feedback - drop us a line at hello@langchain.dev or on Twitter to share your thoughts.\n",
      "\n",
      "\n",
      "Join our newsletter\n",
      "Updates from the LangChain team and community\n",
      "\n",
      "\n",
      "Enter your email\n",
      "\n",
      "Subscribe\n",
      "\n",
      "Processing your application...\n",
      "Success! Please check your inbox and click the link to confirm your subscription.\n",
      "Sorry, something went wrong. Please try again.\n",
      "\n",
      "\n",
      "\n",
      "\n",
      "\n",
      "\n",
      "\n",
      "\n",
      "\n",
      "\n",
      "\n",
      "\n",
      "\n",
      "Sign up\n",
      "\n",
      "\n",
      "\n",
      "\n",
      "\n",
      "            © LangChain Blog 2024\n",
      "\n",
      "a specific node) halfway through the agent's trajectory. This creates an iterative process, by letting you interact with and manipulate the state at that point in time.While there is much more to explore, we're excited to introduce LangGraph Studio to start with bringing some of the core features of an agent IDE to the world.How to use LangGraph StudioLangGraph Studio is a desktop app, currently available for Apple Silicon. You can download a version here. Support for more platforms is coming soon.After you download and open LangGraph Studio, you will be prompted to log in with your LangSmith account. All users of LangSmith (including those with free accounts) currently have access to LangGraph Studio while it is in beta. You can sign up for a LangSmith account here.After downloading LangSmith, you can open a directory. At a bare minimum, this directory needs to contain a Python file with a graph defined in it. Next, you will need to create a langgraph.json file containing details\n",
      "\n",
      "is needed to make the development process easier. Building LLM applications differs from traditional software development, requiring different tooling outside of the traditional code editor.Coding is still important to developing LLM applications — after all, production-ready LangGraph applications have complicated custom logic in the nodes and edges of the graphs that are created. We don't aim to replace code editors but, instead, to augment the development experience with tools tailored for LangGraph applications. LangGraph Studio facilitates this by making it easy to visualize and interact with agent graphs, even if development still primarily happens in code. Visualizing graphs helps developers understand their structure. Furthermore, you can modify an agent result (or the logic underlying a specific node) halfway through the agent's trajectory. This creates an iterative process, by letting you interact with and manipulate the state at that point in time.While there is much more\n",
      "\n",
      "LangGraph Studio: The first agent IDE\n",
      "\n",
      "\n",
      "\n",
      "\n",
      "\n",
      "\n",
      "\n",
      "\n",
      "\n",
      "\n",
      "\n",
      "\n",
      "\n",
      "\n",
      "\n",
      "\n",
      "\n",
      "\n",
      "\n",
      "\n",
      "\n",
      "\n",
      "\n",
      "\n",
      "\n",
      "\n",
      "\n",
      "\n",
      "\n",
      "\n",
      "\n",
      "\n",
      "\n",
      "\n",
      "\n",
      "\n",
      "\n",
      "\n",
      "\n",
      "\n",
      "\n",
      "\n",
      "\n",
      "\n",
      "\n",
      "\n",
      "\n",
      "\n",
      "\n",
      "\n",
      "Skip to content\n",
      "\n",
      "\n",
      "\n",
      "\n",
      "\n",
      "\n",
      "\n",
      "\n",
      "\n",
      "\n",
      "\n",
      "\n",
      "\n",
      "\n",
      "\n",
      "\n",
      "Case Studies\n",
      "\n",
      "\n",
      "\n",
      "\n",
      "In the Loop\n",
      "\n",
      "\n",
      "\n",
      "\n",
      "LangChain\n",
      "\n",
      "\n",
      "\n",
      "\n",
      "Docs\n",
      "\n",
      "\n",
      "\n",
      "\n",
      "Changelog\n",
      "\n",
      "\n",
      "\n",
      "\n",
      "\n",
      "Sign in\n",
      "Subscribe\n",
      "\n",
      "\n",
      "\n",
      "\n",
      "\n",
      "\n",
      "\n",
      "\n",
      "\n",
      "\n",
      "\n",
      "\n",
      "\n",
      "\n",
      "\n",
      "\n",
      "\n",
      "\n",
      "\n",
      "LangGraph Studio: The first agent IDE\n",
      "LangGraph Studio provides a specialized agent IDE for visualizing, interacting with, and debugging complex agentic applications. See how to use it on your desktop today.\n",
      "\n",
      "4 min read\n",
      "Aug 1, 2024\u001b[0m\u001b[32;1m\u001b[1;3mLangGraph Studio is a desktop application for visualizing, interacting with, and debugging agentic applications. It's currently available for Apple Silicon, and support for more platforms is coming soon.  You can download it here.  LangGraph Studio helps developers understand the structure of agent graphs and modify them  iteratively. \n",
      "\u001b[0m\n",
      "\n",
      "\u001b[1m> Finished chain.\u001b[0m\n"
     ]
    },
    {
     "data": {
      "text/plain": [
       "{'input': 'hi! what is a langgraph studio and how to use it?',\n",
       " 'output': \"LangGraph Studio is a desktop application for visualizing, interacting with, and debugging agentic applications. It's currently available for Apple Silicon, and support for more platforms is coming soon.  You can download it here.  LangGraph Studio helps developers understand the structure of agent graphs and modify them  iteratively. \\n\"}"
      ]
     },
     "execution_count": 54,
     "metadata": {},
     "output_type": "execute_result"
    }
   ],
   "source": [
    "agent_executor.invoke({\"input\": \"hi! what is a langgraph studio and how to use it?\"})\n"
   ]
  },
  {
   "cell_type": "markdown",
   "metadata": {},
   "source": [
    "## ReAct Agent (Reasoning + Acting):\n",
    "Definition:\n",
    "\n",
    "The ReAct framework combines reasoning and acting in a single loop to handle tasks. The agent uses natural language reasoning (thinking through steps) and task actions (performing tasks like calculations or data retrieval).\n",
    "\n",
    "The agent uses a combination of reasoning steps to guide actions in real-time, using feedback from those actions to further inform the next step in reasoning.\n",
    "\n",
    "How it works:\n",
    "\n",
    "Step 1: The agent receives a question or task.\n",
    "Step 2: It reasons aloud (in natural language) about how to solve it.\n",
    "Step 3: Based on its reasoning, it takes actions (e.g., searching a database, calculating something).\n",
    "Step 4: The results of these actions are integrated into its reasoning and may trigger further actions.\n",
    "Step 5: It repeats the process until it arrives at a solution.\n",
    "Key points:\n",
    "\n",
    "Combines thinking and doing (reasoning and actions).\n",
    "Performs iterative steps, updating its process based on action results.\n",
    "Typically handles complex decision-making scenarios.\n",
    "Example:\n",
    "\n",
    "Original task: “Calculate the total number of apples in a basket if there are 4 baskets and 7 apples in each.”\n",
    "Reasoning: \"I need to multiply 4 by 7 to get the total number of apples.\"\n",
    "Action: Perform the multiplication.\n",
    "Result: \"There are 28 apples.\"\n",
    "Reasoning: \"I am done.\""
   ]
  },
  {
   "cell_type": "code",
   "execution_count": 57,
   "metadata": {},
   "outputs": [],
   "source": [
    "from langchain.agents import Tool\n",
    "from langchain_core.prompts import PromptTemplate\n",
    "from langchain.agents import AgentExecutor, create_react_agent"
   ]
  },
  {
   "cell_type": "code",
   "execution_count": 64,
   "metadata": {},
   "outputs": [],
   "source": [
    "from langchain_community.tools import DuckDuckGoSearchRun\n",
    "\n",
    "search = DuckDuckGoSearchRun()\n",
    "tools = [search]"
   ]
  },
  {
   "cell_type": "code",
   "execution_count": 65,
   "metadata": {},
   "outputs": [],
   "source": [
    "template = '''Answer the following questions as best you can. You have access to the following tools:\n",
    "{tools}\n",
    "Use the following format:\n",
    "Question: the input question you must answer\n",
    "Thought: you should always think about what to do\n",
    "Action: the action to take, should be one of [{tool_names}]\n",
    "Action Input: the input to the action\n",
    "Observation: the result of the action\n",
    "... (this Thought/Action/Action Input/Observation can repeat N times)\n",
    "Thought: I now know the final answer\n",
    "Final Answer: the final answer to the original input question\n",
    "Begin!\n",
    "Question: {input}\n",
    "Thought:{agent_scratchpad}'''"
   ]
  },
  {
   "cell_type": "code",
   "execution_count": 66,
   "metadata": {},
   "outputs": [
    {
     "data": {
      "text/plain": [
       "PromptTemplate(input_variables=['agent_scratchpad', 'input', 'tool_names', 'tools'], input_types={}, partial_variables={}, template='Answer the following questions as best you can. You have access to the following tools:\\n{tools}\\nUse the following format:\\nQuestion: the input question you must answer\\nThought: you should always think about what to do\\nAction: the action to take, should be one of [{tool_names}]\\nAction Input: the input to the action\\nObservation: the result of the action\\n... (this Thought/Action/Action Input/Observation can repeat N times)\\nThought: I now know the final answer\\nFinal Answer: the final answer to the original input question\\nBegin!\\nQuestion: {input}\\nThought:{agent_scratchpad}')"
      ]
     },
     "execution_count": 66,
     "metadata": {},
     "output_type": "execute_result"
    }
   ],
   "source": [
    "prompt = PromptTemplate.from_template(template)\n",
    "prompt"
   ]
  },
  {
   "cell_type": "code",
   "execution_count": 67,
   "metadata": {},
   "outputs": [],
   "source": [
    "search_agent = create_react_agent(llm,tools,prompt)\n"
   ]
  },
  {
   "cell_type": "code",
   "execution_count": 68,
   "metadata": {},
   "outputs": [],
   "source": [
    "agent_executor = AgentExecutor(\n",
    "    agent=search_agent,\n",
    "    tools=tools,\n",
    "    verbose=True,\n",
    "    return_intermediate_steps=True,\n",
    ")"
   ]
  },
  {
   "cell_type": "code",
   "execution_count": 70,
   "metadata": {},
   "outputs": [
    {
     "name": "stdout",
     "output_type": "stream",
     "text": [
      "\n",
      "\n",
      "\u001b[1m> Entering new AgentExecutor chain...\u001b[0m\n",
      "\u001b[32;1m\u001b[1;3mThought: I need to find out who captained the 2007 T20 Cricket World Cup.\n",
      "Action: duckduckgo_search\n",
      "Action Input: 2007 T20 Cricket World Cup captain \u001b[0m\u001b[36;1m\u001b[1;3mDaren Sammy is the only captain to have won multiple ICC T20 World Cup trophies. India's MS Dhoni (2007), England's Paul Collingwood (2010), Sri Lanka's Lasith Malinga (2014), Pakistan's ... The 2007 T20 World Cup changed the dynamics of the game because it introduced a new ICC event to the world and gave India MS Dhoni, the captain cool. ... who became only the second captain to lead Pakistan to a Cricket World Cup title, after Imran Khan in 1992. Pakistan beat Sri Lanka in the final by 8 wickets. 3. 2010 T20 World Cup - Paul ... Indian Cricket Team Led by young captain MS Dhon defeated Pakistan in the super exciting t20 wc final. In the league phase, the Indian team faced only 1 defeat against New Zealand during the Super 8s phase. In ICC t20 world cup 2007, Shahid Afridi from Pakistan was the man of the Series, while Mathew Hayden from Australia was the highest run ... With the title triumph, Rohit and and team became T20 world cup winners. The win marked India's first ICC trophy in 11 years. The last time the Indian cricket team celebrated such a triumph was in ... India T20 World Cup 2024 Winner (Photo by Gareth Copley/Getty Images) The ICC T20 World Cup, a global cricket tournament, kicked off in South Africa back in 2007.\u001b[0m\u001b[32;1m\u001b[1;3mThought: The 2007 T20 Cricket World Cup captain was MS Dhoni. I need to find his hometown. \n",
      "Action: duckduckgo_search\n",
      "Action Input: MS Dhoni hometown\u001b[0m\u001b[36;1m\u001b[1;3mM.S. Dhoni (born July 7, 1981, Ranchi, Bihar [now Jharkhand] state, India) is an Indian cricketer whose rise to prominence in the early 21st century culminated in his captaincy of the Indian national team that won the one-day Cricket World Cup in 2011.. Dhoni made his international debut in 2004. His talent with the bat came to the fore in an innings of 148 runs against Pakistan in his fifth ... MS Dhoni is one of the richest cricketers in the World and he owns multiple properties around the world but he is still attached to his grounds and lives in his hometown Ranchi does what he loves ... Mahendra Singh Dhoni has returned to his home Ranchi a day after Chennai Super Kings' elimination from IPL 2024 after suffering defeat against Royal Challengers Bengaluru on Saturday night. MS Dhoni's: Interesting facts. Cricketer MS Dhoni married Sakshi Dhoni on July 4, 2010. The celebrity couple have many Indian cricket fans. Sakshi Dhoni posts pictures of MS Dhoni's sprawling house and pictures with her husband and daughter, Ziva, on social media. Dhoni met Sakshi during a match against Pakistan in Kolkata. The MS Dhoni farm house is located in his hometown Ranchi. It has boasts stunning interiors, making the Dhoni house a graceful property. Read on to know more. ... Mahendra Singh Dhoni is one of the wealthiest Indian cricket players, with a net worth of Rs 1040 crore. While cricket is his primary source of income, a significant portion of it is ...\u001b[0m\u001b[32;1m\u001b[1;3mThought: I now know the final answer\n",
      "Final Answer: Ranchi \n",
      "\u001b[0m\n",
      "\n",
      "\u001b[1m> Finished chain.\u001b[0m\n"
     ]
    },
    {
     "data": {
      "text/plain": [
       "{'input': 'Where is the hometown of the 2007 T20 Cricket World cup captain?',\n",
       " 'output': 'Ranchi',\n",
       " 'intermediate_steps': [(AgentAction(tool='duckduckgo_search', tool_input='2007 T20 Cricket World Cup captain', log='Thought: I need to find out who captained the 2007 T20 Cricket World Cup.\\nAction: duckduckgo_search\\nAction Input: 2007 T20 Cricket World Cup captain '),\n",
       "   \"Daren Sammy is the only captain to have won multiple ICC T20 World Cup trophies. India's MS Dhoni (2007), England's Paul Collingwood (2010), Sri Lanka's Lasith Malinga (2014), Pakistan's ... The 2007 T20 World Cup changed the dynamics of the game because it introduced a new ICC event to the world and gave India MS Dhoni, the captain cool. ... who became only the second captain to lead Pakistan to a Cricket World Cup title, after Imran Khan in 1992. Pakistan beat Sri Lanka in the final by 8 wickets. 3. 2010 T20 World Cup - Paul ... Indian Cricket Team Led by young captain MS Dhon defeated Pakistan in the super exciting t20 wc final. In the league phase, the Indian team faced only 1 defeat against New Zealand during the Super 8s phase. In ICC t20 world cup 2007, Shahid Afridi from Pakistan was the man of the Series, while Mathew Hayden from Australia was the highest run ... With the title triumph, Rohit and and team became T20 world cup winners. The win marked India's first ICC trophy in 11 years. The last time the Indian cricket team celebrated such a triumph was in ... India T20 World Cup 2024 Winner (Photo by Gareth Copley/Getty Images) The ICC T20 World Cup, a global cricket tournament, kicked off in South Africa back in 2007.\"),\n",
       "  (AgentAction(tool='duckduckgo_search', tool_input='MS Dhoni hometown', log='Thought: The 2007 T20 Cricket World Cup captain was MS Dhoni. I need to find his hometown. \\nAction: duckduckgo_search\\nAction Input: MS Dhoni hometown'),\n",
       "   \"M.S. Dhoni (born July 7, 1981, Ranchi, Bihar [now Jharkhand] state, India) is an Indian cricketer whose rise to prominence in the early 21st century culminated in his captaincy of the Indian national team that won the one-day Cricket World Cup in 2011.. Dhoni made his international debut in 2004. His talent with the bat came to the fore in an innings of 148 runs against Pakistan in his fifth ... MS Dhoni is one of the richest cricketers in the World and he owns multiple properties around the world but he is still attached to his grounds and lives in his hometown Ranchi does what he loves ... Mahendra Singh Dhoni has returned to his home Ranchi a day after Chennai Super Kings' elimination from IPL 2024 after suffering defeat against Royal Challengers Bengaluru on Saturday night. MS Dhoni's: Interesting facts. Cricketer MS Dhoni married Sakshi Dhoni on July 4, 2010. The celebrity couple have many Indian cricket fans. Sakshi Dhoni posts pictures of MS Dhoni's sprawling house and pictures with her husband and daughter, Ziva, on social media. Dhoni met Sakshi during a match against Pakistan in Kolkata. The MS Dhoni farm house is located in his hometown Ranchi. It has boasts stunning interiors, making the Dhoni house a graceful property. Read on to know more. ... Mahendra Singh Dhoni is one of the wealthiest Indian cricket players, with a net worth of Rs 1040 crore. While cricket is his primary source of income, a significant portion of it is ...\")]}"
      ]
     },
     "execution_count": 70,
     "metadata": {},
     "output_type": "execute_result"
    }
   ],
   "source": [
    "agent_executor.invoke({\"input\": \"Where is the hometown of the 2007 T20 Cricket World cup captain?\"})\n"
   ]
  },
  {
   "cell_type": "markdown",
   "metadata": {},
   "source": [
    "## ReACT with Custom prompts and tools"
   ]
  },
  {
   "cell_type": "code",
   "execution_count": 74,
   "metadata": {},
   "outputs": [],
   "source": [
    "from langchain.agents import tool"
   ]
  },
  {
   "cell_type": "code",
   "execution_count": 75,
   "metadata": {},
   "outputs": [],
   "source": [
    "# Custom tool for the Agent \n",
    "@tool\n",
    "def get_employee_id(name):\n",
    "  \"\"\"\n",
    "  To get employee id, it takes employee name as arguments\n",
    "  name(str): Name of the employee\n",
    "  \"\"\"\n",
    "  fake_employees = {\n",
    "    \"Alice\": \"E001\",\n",
    "    \"Bob\": \"E002\",\n",
    "    \"Charlie\": \"E003\",\n",
    "    \"Diana\": \"E004\",\n",
    "    \"Evan\": \"E005\",\n",
    "    \"Fiona\": \"E006\",\n",
    "    \"George\": \"E007\",\n",
    "    \"Hannah\": \"E008\",\n",
    "    \"Ian\": \"E009\",\n",
    "    \"Jasmine\": \"E010\"}\n",
    "  \n",
    "  return fake_employees.get(name,\"Employee not found\")"
   ]
  },
  {
   "cell_type": "code",
   "execution_count": 76,
   "metadata": {},
   "outputs": [],
   "source": [
    "# Custom tool for the Agent \n",
    "@tool\n",
    "def get_employee_salary(employee_id):\n",
    "  \"\"\"\n",
    "  To get the salary of an employee, it takes employee_id as input and return salary\n",
    "  \"\"\"\n",
    "  employee_salaries = {\n",
    "    \"E001\": 56000,\n",
    "    \"E002\": 47000,\n",
    "    \"E003\": 52000,\n",
    "    \"E004\": 61000,\n",
    "    \"E005\": 45000,\n",
    "    \"E006\": 58000,\n",
    "    \"E007\": 49000,\n",
    "    \"E008\": 53000,\n",
    "    \"E009\": 50000,\n",
    "    \"E010\": 55000\n",
    "    }\n",
    "  return employee_salaries.get(employee_id,\"Employee not found\")"
   ]
  },
  {
   "cell_type": "code",
   "execution_count": 77,
   "metadata": {},
   "outputs": [],
   "source": [
    "# Saved React Prompt in langchain hub, we could manually type the prompt as well.\n",
    "prompt = hub.pull(\"hwchase17/react\")"
   ]
  },
  {
   "cell_type": "code",
   "execution_count": 78,
   "metadata": {},
   "outputs": [
    {
     "data": {
      "text/plain": [
       "PromptTemplate(input_variables=['agent_scratchpad', 'input', 'tool_names', 'tools'], input_types={}, partial_variables={}, metadata={'lc_hub_owner': 'hwchase17', 'lc_hub_repo': 'react', 'lc_hub_commit_hash': 'd15fe3c426f1c4b3f37c9198853e4a86e20c425ca7f4752ec0c9b0e97ca7ea4d'}, template='Answer the following questions as best you can. You have access to the following tools:\\n\\n{tools}\\n\\nUse the following format:\\n\\nQuestion: the input question you must answer\\nThought: you should always think about what to do\\nAction: the action to take, should be one of [{tool_names}]\\nAction Input: the input to the action\\nObservation: the result of the action\\n... (this Thought/Action/Action Input/Observation can repeat N times)\\nThought: I now know the final answer\\nFinal Answer: the final answer to the original input question\\n\\nBegin!\\n\\nQuestion: {input}\\nThought:{agent_scratchpad}')"
      ]
     },
     "execution_count": 78,
     "metadata": {},
     "output_type": "execute_result"
    }
   ],
   "source": [
    "prompt"
   ]
  },
  {
   "cell_type": "code",
   "execution_count": 79,
   "metadata": {},
   "outputs": [
    {
     "name": "stdout",
     "output_type": "stream",
     "text": [
      "Answer the following questions as best you can. You have access to the following tools:\n",
      "\n",
      "{tools}\n",
      "\n",
      "Use the following format:\n",
      "\n",
      "Question: the input question you must answer\n",
      "Thought: you should always think about what to do\n",
      "Action: the action to take, should be one of [{tool_names}]\n",
      "Action Input: the input to the action\n",
      "Observation: the result of the action\n",
      "... (this Thought/Action/Action Input/Observation can repeat N times)\n",
      "Thought: I now know the final answer\n",
      "Final Answer: the final answer to the original input question\n",
      "\n",
      "Begin!\n",
      "\n",
      "Question: {input}\n",
      "Thought:{agent_scratchpad}\n"
     ]
    }
   ],
   "source": [
    "print(prompt.template)\n"
   ]
  },
  {
   "cell_type": "code",
   "execution_count": 80,
   "metadata": {},
   "outputs": [],
   "source": [
    "tools = [get_employee_salary, get_employee_id]\n"
   ]
  },
  {
   "cell_type": "code",
   "execution_count": 81,
   "metadata": {},
   "outputs": [],
   "source": [
    "agent = create_react_agent(llm,tools,prompt)\n"
   ]
  },
  {
   "cell_type": "code",
   "execution_count": 82,
   "metadata": {},
   "outputs": [],
   "source": [
    "agent_executor = AgentExecutor(agent=agent,tools=tools,verbose=True)\n"
   ]
  },
  {
   "cell_type": "code",
   "execution_count": 83,
   "metadata": {},
   "outputs": [
    {
     "name": "stdout",
     "output_type": "stream",
     "text": [
      "\n",
      "\n",
      "\u001b[1m> Entering new AgentExecutor chain...\u001b[0m\n",
      "\u001b[32;1m\u001b[1;3mThought: I need to find Evan's employee ID first, then use that to get his salary. \n",
      "Action: get_employee_id\n",
      "Action Input: Evan\u001b[0m\u001b[33;1m\u001b[1;3mE005\u001b[0m\u001b[32;1m\u001b[1;3mThought: Now that I have Evan's employee ID, I can use it to find his salary.\n",
      "Action: get_employee_salary\n",
      "Action Input: E005\u001b[0m\u001b[36;1m\u001b[1;3m45000\u001b[0m\u001b[32;1m\u001b[1;3mThought: I now know the final answer\n",
      "Final Answer: 45000 \n",
      "\u001b[0m\n",
      "\n",
      "\u001b[1m> Finished chain.\u001b[0m\n"
     ]
    },
    {
     "data": {
      "text/plain": [
       "{'input': 'What is the Salary of Evan?', 'output': '45000'}"
      ]
     },
     "execution_count": 83,
     "metadata": {},
     "output_type": "execute_result"
    }
   ],
   "source": [
    "agent_executor.invoke({\"input\":\"What is the Salary of Evan?\"})\n"
   ]
  },
  {
   "cell_type": "code",
   "execution_count": 84,
   "metadata": {},
   "outputs": [
    {
     "name": "stdout",
     "output_type": "stream",
     "text": [
      "\n",
      "\n",
      "\u001b[1m> Entering new AgentExecutor chain...\u001b[0m\n",
      "\u001b[32;1m\u001b[1;3mThought: I need to find Sunny's employee ID first, then use that to get their salary. \n",
      "Action: get_employee_id\n",
      "Action Input: Sunny\u001b[0m\u001b[33;1m\u001b[1;3mEmployee not found\u001b[0m\u001b[32;1m\u001b[1;3mThought: It seems Sunny is not in the system. \n",
      "Final Answer: Employee not found \n",
      "\u001b[0m\n",
      "\n",
      "\u001b[1m> Finished chain.\u001b[0m\n"
     ]
    },
    {
     "data": {
      "text/plain": [
       "{'input': 'What is the Salary of Sunny?', 'output': 'Employee not found'}"
      ]
     },
     "execution_count": 84,
     "metadata": {},
     "output_type": "execute_result"
    }
   ],
   "source": [
    "agent_executor.invoke({\"input\":\"What is the Salary of Sunny?\"})\n"
   ]
  },
  {
   "cell_type": "markdown",
   "metadata": {},
   "source": [
    "## Self-Ask with Search Agent:\n",
    "Definition:\n",
    "\n",
    "This approach allows the AI to ask itself follow-up questions when it doesn't immediately know the answer. It performs a recursive questioning process to break down complex queries into smaller, more manageable ones.\n",
    "Once the AI generates these follow-up questions, it performs an external search (e.g., through Google or an internal database) to gather the necessary information before formulating a response.\n",
    "How it works:\n",
    "\n",
    "Step 1: Receive a complex question.\n",
    "Step 2: The agent identifies sub-questions or follow-up questions.\n",
    "Step 3: It performs a search or fetches answers to these questions from external resources (like a web search).\n",
    "Step 4: The answers are aggregated to provide a complete response.\n",
    "Key points:\n",
    "\n",
    "Emphasizes question decomposition.\n",
    "Relies on external search for sub-questions.\n",
    "Useful for answering open-ended or broad questions where the answer is not immediately available.\n",
    "Example:\n",
    "\n",
    "Original question: “How many moons does Jupiter have?”\n",
    "Sub-question: “What is Jupiter?” (search)\n",
    "Sub-question: “What are moons?” (search)\n",
    "Finally, it retrieves the answer: \"Jupiter has 79 moons.\""
   ]
  },
  {
   "cell_type": "code",
   "execution_count": 85,
   "metadata": {},
   "outputs": [],
   "source": [
    "from langchain_google_genai import GoogleGenerativeAIEmbeddings\n",
    "embeddings = GoogleGenerativeAIEmbeddings(model=\"models/embedding-001\")\n",
    "from langchain_google_genai import ChatGoogleGenerativeAI\n",
    "llm = ChatGoogleGenerativeAI(model=\"gemini-1.5-flash\")"
   ]
  },
  {
   "cell_type": "code",
   "execution_count": 96,
   "metadata": {},
   "outputs": [],
   "source": [
    "from langchain import hub\n",
    "from langchain.agents import AgentExecutor, create_self_ask_with_search_agent\n",
    "from langchain_community.tools.tavily_search import TavilyAnswer"
   ]
  },
  {
   "cell_type": "code",
   "execution_count": 97,
   "metadata": {},
   "outputs": [],
   "source": [
    "duck_search = DuckDuckGoSearchRun()"
   ]
  },
  {
   "cell_type": "code",
   "execution_count": 98,
   "metadata": {},
   "outputs": [
    {
     "data": {
      "text/plain": [
       "\"Statistical subregions as defined by the United Nations Statistics Division [1]. This is a list of countries and other inhabited territories of the world by total population, based on estimates published by the United Nations in the 2024 revision of World Population Prospects.It presents population estimates from 1950 to the present. [2] The most populous country in Africa, Nigeria has seen its population grow steadily since at least the 1960s, and experienced a 2.4% year-over-year increase from 2022. Nigeria's population grew ... Asia is the most populous continent on Earth; 11 of the 20 largest countries are located there. It leads the ranking of the global population by continent by far, reporting four times as many ... Top 5 Most Populated Countries 2024 1. India. India surpassed China to become worlds most populous country in mid 2024 with estimated population of 1.428 billion.According to statistics India has a high birth rate of 16.1 births per 1,000 people which is significantly less than birth rate of 29.5 births per 1,000 people in 1990's but still India overthrew China to become no.1 most populated ... 1. India: The Most Populous Nation. India has recently surpassed China to become the most populous country in the world with over 1.5 billion inhabitants.\""
      ]
     },
     "execution_count": 98,
     "metadata": {},
     "output_type": "execute_result"
    }
   ],
   "source": [
    "duck_search.invoke(\"Most populus country?\")"
   ]
  },
  {
   "cell_type": "code",
   "execution_count": 99,
   "metadata": {},
   "outputs": [],
   "source": [
    "tools = [\n",
    "    Tool(\n",
    "        name=\"Intermediate Answer\",\n",
    "        func=duck_search.invoke,\n",
    "        description=\"useful for when you need to ask with search\",\n",
    "        verbose=True\n",
    "    )\n",
    "]"
   ]
  },
  {
   "cell_type": "code",
   "execution_count": 100,
   "metadata": {},
   "outputs": [],
   "source": [
    "prompt = hub.pull(\"hwchase17/self-ask-with-search\")\n"
   ]
  },
  {
   "cell_type": "code",
   "execution_count": 101,
   "metadata": {},
   "outputs": [
    {
     "name": "stdout",
     "output_type": "stream",
     "text": [
      "Question: Who lived longer, Muhammad Ali or Alan Turing?\n",
      "Are follow up questions needed here: Yes.\n",
      "Follow up: How old was Muhammad Ali when he died?\n",
      "Intermediate answer: Muhammad Ali was 74 years old when he died.\n",
      "Follow up: How old was Alan Turing when he died?\n",
      "Intermediate answer: Alan Turing was 41 years old when he died.\n",
      "So the final answer is: Muhammad Ali\n",
      "\n",
      "Question: When was the founder of craigslist born?\n",
      "Are follow up questions needed here: Yes.\n",
      "Follow up: Who was the founder of craigslist?\n",
      "Intermediate answer: Craigslist was founded by Craig Newmark.\n",
      "Follow up: When was Craig Newmark born?\n",
      "Intermediate answer: Craig Newmark was born on December 6, 1952.\n",
      "So the final answer is: December 6, 1952\n",
      "\n",
      "Question: Who was the maternal grandfather of George Washington?\n",
      "Are follow up questions needed here: Yes.\n",
      "Follow up: Who was the mother of George Washington?\n",
      "Intermediate answer: The mother of George Washington was Mary Ball Washington.\n",
      "Follow up: Who was the father of Mary Ball Washington?\n",
      "Intermediate answer: The father of Mary Ball Washington was Joseph Ball.\n",
      "So the final answer is: Joseph Ball\n",
      "\n",
      "Question: Are both the directors of Jaws and Casino Royale from the same country?\n",
      "Are follow up questions needed here: Yes.\n",
      "Follow up: Who is the director of Jaws?\n",
      "Intermediate answer: The director of Jaws is Steven Spielberg.\n",
      "Follow up: Where is Steven Spielberg from?\n",
      "Intermediate answer: The United States.\n",
      "Follow up: Who is the director of Casino Royale?\n",
      "Intermediate answer: The director of Casino Royale is Martin Campbell.\n",
      "Follow up: Where is Martin Campbell from?\n",
      "Intermediate answer: New Zealand.\n",
      "So the final answer is: No\n",
      "\n",
      "Question: {input}\n",
      "Are followup questions needed here:{agent_scratchpad}\n"
     ]
    }
   ],
   "source": [
    "print(prompt.template)"
   ]
  },
  {
   "cell_type": "code",
   "execution_count": 102,
   "metadata": {},
   "outputs": [],
   "source": [
    "agent = create_self_ask_with_search_agent(llm, tools, prompt)\n"
   ]
  },
  {
   "cell_type": "code",
   "execution_count": 103,
   "metadata": {},
   "outputs": [],
   "source": [
    "agent_executor = AgentExecutor(agent=agent, tools=tools, verbose=True,handle_parsing_errors=True)\n"
   ]
  },
  {
   "cell_type": "code",
   "execution_count": null,
   "metadata": {},
   "outputs": [],
   "source": [
    "agent_executor.invoke(\n",
    "    {\"input\": \"Who won the 2019 cricket world cup?\"}\n",
    ")"
   ]
  },
  {
   "cell_type": "code",
   "execution_count": null,
   "metadata": {},
   "outputs": [],
   "source": []
  },
  {
   "cell_type": "code",
   "execution_count": null,
   "metadata": {},
   "outputs": [],
   "source": []
  },
  {
   "cell_type": "code",
   "execution_count": null,
   "metadata": {},
   "outputs": [],
   "source": []
  },
  {
   "cell_type": "code",
   "execution_count": null,
   "metadata": {},
   "outputs": [],
   "source": []
  }
 ],
 "metadata": {
  "kernelspec": {
   "display_name": "langGraph-env",
   "language": "python",
   "name": "python3"
  },
  "language_info": {
   "codemirror_mode": {
    "name": "ipython",
    "version": 3
   },
   "file_extension": ".py",
   "mimetype": "text/x-python",
   "name": "python",
   "nbconvert_exporter": "python",
   "pygments_lexer": "ipython3",
   "version": "3.10.16"
  }
 },
 "nbformat": 4,
 "nbformat_minor": 2
}
