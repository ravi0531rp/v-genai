{
 "cells": [
  {
   "cell_type": "code",
   "execution_count": 1,
   "metadata": {},
   "outputs": [
    {
     "name": "stderr",
     "output_type": "stream",
     "text": [
      "/home/ravi0531rp/anaconda3/envs/langchain-env/lib/python3.11/site-packages/langchain_community/graphs/neo4j_graph.py:6: LangChainDeprecationWarning: As of langchain-core 0.3.0, LangChain uses pydantic v2 internally. The langchain_core.pydantic_v1 module was a compatibility shim for pydantic v1, and should no longer be used. Please update the code to import from Pydantic directly.\n",
      "\n",
      "For example, replace imports like: `from langchain_core.pydantic_v1 import BaseModel`\n",
      "with: `from pydantic import BaseModel`\n",
      "or the v1 compatibility namespace if you are working in a code base that has not been fully upgraded to pydantic 2 yet. \tfrom pydantic.v1 import BaseModel\n",
      "\n",
      "  from langchain_community.graphs.graph_document import GraphDocument\n"
     ]
    }
   ],
   "source": [
    "from dotenv import load_dotenv\n",
    "import os\n",
    "\n",
    "from langchain_community.graphs import Neo4jGraph\n",
    "\n",
    "# Warning control\n",
    "import warnings\n",
    "warnings.filterwarnings(\"ignore\")"
   ]
  },
  {
   "cell_type": "code",
   "execution_count": 2,
   "metadata": {},
   "outputs": [],
   "source": [
    "load_dotenv('.env', override=True)\n",
    "NEO4J_URI = os.getenv('NEO4J_URI')\n",
    "NEO4J_USERNAME = os.getenv('NEO4J_USERNAME')\n",
    "NEO4J_PASSWORD = os.getenv('NEO4J_PASSWORD')\n",
    "NEO4J_DATABASE = os.getenv('NEO4J_DATABASE')"
   ]
  },
  {
   "cell_type": "code",
   "execution_count": 3,
   "metadata": {},
   "outputs": [],
   "source": [
    "kg = Neo4jGraph(\n",
    "    url=NEO4J_URI, username=NEO4J_USERNAME, password=NEO4J_PASSWORD, database=NEO4J_DATABASE\n",
    ")"
   ]
  },
  {
   "cell_type": "code",
   "execution_count": 4,
   "metadata": {},
   "outputs": [
    {
     "data": {
      "text/plain": [
       "<langchain_community.graphs.neo4j_graph.Neo4jGraph at 0x7db6b07d9a90>"
      ]
     },
     "execution_count": 4,
     "metadata": {},
     "output_type": "execute_result"
    }
   ],
   "source": [
    "kg"
   ]
  },
  {
   "cell_type": "code",
   "execution_count": 5,
   "metadata": {},
   "outputs": [],
   "source": [
    "cypher = \"\"\"\n",
    "  MATCH (n) \n",
    "  RETURN count(n)\n",
    "  \"\"\""
   ]
  },
  {
   "cell_type": "code",
   "execution_count": 6,
   "metadata": {},
   "outputs": [
    {
     "data": {
      "text/plain": [
       "[{'count(n)': 131}]"
      ]
     },
     "execution_count": 6,
     "metadata": {},
     "output_type": "execute_result"
    }
   ],
   "source": [
    "result = kg.query(cypher)\n",
    "result"
   ]
  },
  {
   "cell_type": "code",
   "execution_count": 7,
   "metadata": {},
   "outputs": [],
   "source": [
    "cypher = \"\"\"\n",
    "  MATCH (n) \n",
    "  RETURN count(n) AS numberOfNodes\n",
    "  \"\"\""
   ]
  },
  {
   "cell_type": "code",
   "execution_count": 8,
   "metadata": {},
   "outputs": [
    {
     "data": {
      "text/plain": [
       "[{'numberOfNodes': 131}]"
      ]
     },
     "execution_count": 8,
     "metadata": {},
     "output_type": "execute_result"
    }
   ],
   "source": [
    "result = kg.query(cypher)\n",
    "result"
   ]
  },
  {
   "cell_type": "code",
   "execution_count": 9,
   "metadata": {},
   "outputs": [
    {
     "data": {
      "text/plain": [
       "[{'numberOfMovies': 100}]"
      ]
     },
     "execution_count": 9,
     "metadata": {},
     "output_type": "execute_result"
    }
   ],
   "source": [
    "cypher = \"\"\"\n",
    "  MATCH (m:Movie) \n",
    "  RETURN count(m) AS numberOfMovies\n",
    "  \"\"\"\n",
    "kg.query(cypher)"
   ]
  },
  {
   "cell_type": "code",
   "execution_count": 10,
   "metadata": {},
   "outputs": [
    {
     "data": {
      "text/plain": [
       "[{'numberOfPeople': 31}]"
      ]
     },
     "execution_count": 10,
     "metadata": {},
     "output_type": "execute_result"
    }
   ],
   "source": [
    "cypher = \"\"\"\n",
    "    MATCH (p: Person)\n",
    "    RETURN count(p) AS numberOfPeople\n",
    "\"\"\"\n",
    "kg.query(cypher)"
   ]
  },
  {
   "cell_type": "code",
   "execution_count": 11,
   "metadata": {},
   "outputs": [
    {
     "data": {
      "text/plain": [
       "[{'Person_2': {'born': '1940-02-13', 'name': 'Person_2'}},\n",
       " {'Person_2': {'name': 'Person_2'}}]"
      ]
     },
     "execution_count": 11,
     "metadata": {},
     "output_type": "execute_result"
    }
   ],
   "source": [
    "cypher = \"\"\"\n",
    "  MATCH (Person_2:Person {name:\"Person_2\"}) \n",
    "  RETURN Person_2\n",
    "  \"\"\"\n",
    "kg.query(cypher)"
   ]
  },
  {
   "cell_type": "code",
   "execution_count": 12,
   "metadata": {},
   "outputs": [
    {
     "data": {
      "text/plain": [
       "[{'mv': {'tagline': 'Tagline for Movie_20',\n",
       "   'title': 'Movie_20',\n",
       "   'released': '2008-02-24'}}]"
      ]
     },
     "execution_count": 12,
     "metadata": {},
     "output_type": "execute_result"
    }
   ],
   "source": [
    "cypher = \"\"\"\n",
    "  MATCH (mv:Movie {title:\"Movie_20\"}) \n",
    "  RETURN mv\n",
    "  \"\"\"\n",
    "kg.query(cypher)"
   ]
  },
  {
   "cell_type": "markdown",
   "metadata": {},
   "source": [
    "### Conditional Matching"
   ]
  },
  {
   "cell_type": "code",
   "execution_count": 13,
   "metadata": {},
   "outputs": [
    {
     "data": {
      "text/plain": [
       "[{'nineties': {'tagline': 'Tagline for Movie_5',\n",
       "   'title': 'Movie_5',\n",
       "   'released': '1998-03-26'}},\n",
       " {'nineties': {'tagline': 'Tagline for Movie_7',\n",
       "   'title': 'Movie_7',\n",
       "   'released': '1996-04-20'}},\n",
       " {'nineties': {'tagline': 'Tagline for Movie_10',\n",
       "   'title': 'Movie_10',\n",
       "   'released': '1985-01-10'}},\n",
       " {'nineties': {'tagline': 'Tagline for Movie_11',\n",
       "   'title': 'Movie_11',\n",
       "   'released': '1980-02-28'}},\n",
       " {'nineties': {'tagline': 'Tagline for Movie_14',\n",
       "   'title': 'Movie_14',\n",
       "   'released': '1981-05-05'}},\n",
       " {'nineties': {'tagline': 'Tagline for Movie_24',\n",
       "   'title': 'Movie_24',\n",
       "   'released': '1996-05-25'}},\n",
       " {'nineties': {'tagline': 'Tagline for Movie_25',\n",
       "   'title': 'Movie_25',\n",
       "   'released': '1995-12-13'}},\n",
       " {'nineties': {'tagline': 'Tagline for Movie_30',\n",
       "   'title': 'Movie_30',\n",
       "   'released': '1990-12-19'}},\n",
       " {'nineties': {'tagline': 'Tagline for Movie_34',\n",
       "   'title': 'Movie_34',\n",
       "   'released': '1992-03-12'}},\n",
       " {'nineties': {'tagline': 'Tagline for Movie_39',\n",
       "   'title': 'Movie_39',\n",
       "   'released': '1987-06-17'}},\n",
       " {'nineties': {'tagline': 'Tagline for Movie_40',\n",
       "   'title': 'Movie_40',\n",
       "   'released': '1997-05-17'}},\n",
       " {'nineties': {'tagline': 'Tagline for Movie_41',\n",
       "   'title': 'Movie_41',\n",
       "   'released': '1990-11-25'}},\n",
       " {'nineties': {'tagline': 'Tagline for Movie_45',\n",
       "   'title': 'Movie_45',\n",
       "   'released': '1986-04-03'}},\n",
       " {'nineties': {'tagline': 'Tagline for Movie_46',\n",
       "   'title': 'Movie_46',\n",
       "   'released': '1996-11-29'}},\n",
       " {'nineties': {'tagline': 'Tagline for Movie_49',\n",
       "   'title': 'Movie_49',\n",
       "   'released': '1989-05-01'}},\n",
       " {'nineties': {'tagline': 'Tagline for Movie_51',\n",
       "   'title': 'Movie_51',\n",
       "   'released': '1993-10-25'}},\n",
       " {'nineties': {'tagline': 'Tagline for Movie_52',\n",
       "   'title': 'Movie_52',\n",
       "   'released': '1997-03-15'}},\n",
       " {'nineties': {'tagline': 'Tagline for Movie_55',\n",
       "   'title': 'Movie_55',\n",
       "   'released': '1987-08-21'}},\n",
       " {'nineties': {'tagline': 'Tagline for Movie_56',\n",
       "   'title': 'Movie_56',\n",
       "   'released': '1983-12-01'}},\n",
       " {'nineties': {'tagline': 'Tagline for Movie_57',\n",
       "   'title': 'Movie_57',\n",
       "   'released': '1990-06-05'}},\n",
       " {'nineties': {'tagline': 'Tagline for Movie_59',\n",
       "   'title': 'Movie_59',\n",
       "   'released': '1995-08-11'}},\n",
       " {'nineties': {'tagline': 'Tagline for Movie_61',\n",
       "   'title': 'Movie_61',\n",
       "   'released': '1983-02-23'}},\n",
       " {'nineties': {'tagline': 'Tagline for Movie_65',\n",
       "   'title': 'Movie_65',\n",
       "   'released': '1988-04-03'}},\n",
       " {'nineties': {'tagline': 'Tagline for Movie_66',\n",
       "   'title': 'Movie_66',\n",
       "   'released': '1993-05-14'}},\n",
       " {'nineties': {'tagline': 'Tagline for Movie_69',\n",
       "   'title': 'Movie_69',\n",
       "   'released': '1997-05-22'}},\n",
       " {'nineties': {'tagline': 'Tagline for Movie_76',\n",
       "   'title': 'Movie_76',\n",
       "   'released': '1994-04-23'}},\n",
       " {'nineties': {'tagline': 'Tagline for Movie_82',\n",
       "   'title': 'Movie_82',\n",
       "   'released': '1993-08-10'}},\n",
       " {'nineties': {'tagline': 'Tagline for Movie_86',\n",
       "   'title': 'Movie_86',\n",
       "   'released': '1982-02-13'}},\n",
       " {'nineties': {'tagline': 'Tagline for Movie_89',\n",
       "   'title': 'Movie_89',\n",
       "   'released': '1986-10-13'}},\n",
       " {'nineties': {'tagline': 'Tagline for Movie_90',\n",
       "   'title': 'Movie_90',\n",
       "   'released': '1993-06-23'}},\n",
       " {'nineties': {'tagline': 'Tagline for Movie_91',\n",
       "   'title': 'Movie_91',\n",
       "   'released': '1990-05-09'}},\n",
       " {'nineties': {'tagline': 'Tagline for Movie_93',\n",
       "   'title': 'Movie_93',\n",
       "   'released': '1989-11-15'}},\n",
       " {'nineties': {'tagline': 'Tagline for Movie_94',\n",
       "   'title': 'Movie_94',\n",
       "   'released': '1992-02-12'}},\n",
       " {'nineties': {'tagline': 'Tagline for Movie_96',\n",
       "   'title': 'Movie_96',\n",
       "   'released': '1996-07-19'}},\n",
       " {'nineties': {'tagline': 'Tagline for Movie_98',\n",
       "   'title': 'Movie_98',\n",
       "   'released': '1992-10-11'}},\n",
       " {'nineties': {'tagline': 'Tagline for Movie_99',\n",
       "   'title': 'Movie_99',\n",
       "   'released': '1995-08-27'}}]"
      ]
     },
     "execution_count": 13,
     "metadata": {},
     "output_type": "execute_result"
    }
   ],
   "source": [
    "cypher = \"\"\"\n",
    "  MATCH (nineties:Movie) \n",
    "WHERE nineties.released < '1999-01-01'\n",
    "  RETURN nineties\n",
    "  \"\"\"\n",
    "kg.query(cypher)"
   ]
  },
  {
   "cell_type": "markdown",
   "metadata": {},
   "source": [
    "### Pattern Matching with Multiple nodes"
   ]
  },
  {
   "cell_type": "code",
   "execution_count": 14,
   "metadata": {},
   "outputs": [
    {
     "data": {
      "text/plain": [
       "[{'actor.name': 'Person_1', 'movie.title': 'Movie_28'},\n",
       " {'actor.name': 'Person_1', 'movie.title': 'Movie_90'}]"
      ]
     },
     "execution_count": 14,
     "metadata": {},
     "output_type": "execute_result"
    }
   ],
   "source": [
    "cypher = \"\"\"\n",
    "  MATCH (actor:Person {name : \"Person_1\"})-[:ACTED_IN]->(movie:Movie) \n",
    "  RETURN actor.name, movie.title LIMIT 10\n",
    "  \"\"\"\n",
    "kg.query(cypher)"
   ]
  },
  {
   "cell_type": "code",
   "execution_count": 15,
   "metadata": {},
   "outputs": [
    {
     "data": {
      "text/plain": [
       "[{'directors.name': 'Person_2', 'movie.title': 'Movie_80'},\n",
       " {'directors.name': 'Person_2', 'movie.title': 'Movie_88'},\n",
       " {'directors.name': 'Person_2', 'movie.title': 'Movie_76'},\n",
       " {'directors.name': 'Person_3', 'movie.title': 'Movie_46'},\n",
       " {'directors.name': 'Person_3', 'movie.title': 'Movie_21'},\n",
       " {'directors.name': 'Person_3', 'movie.title': 'Movie_50'},\n",
       " {'directors.name': 'Person_3', 'movie.title': 'Movie_5'},\n",
       " {'directors.name': 'Person_5', 'movie.title': 'Movie_86'},\n",
       " {'directors.name': 'Person_5', 'movie.title': 'Movie_58'},\n",
       " {'directors.name': 'Person_6', 'movie.title': 'Movie_77'}]"
      ]
     },
     "execution_count": 15,
     "metadata": {},
     "output_type": "execute_result"
    }
   ],
   "source": [
    "cypher = \"\"\"\n",
    "  MATCH (directors:Person)-[:DIRECTED]->(movie:Movie) \n",
    "  RETURN directors.name, movie.title LIMIT 10\n",
    "  \"\"\"\n",
    "kg.query(cypher)"
   ]
  },
  {
   "cell_type": "code",
   "execution_count": 16,
   "metadata": {},
   "outputs": [
    {
     "data": {
      "text/plain": [
       "[{'numberOfDirectors': 26}]"
      ]
     },
     "execution_count": 16,
     "metadata": {},
     "output_type": "execute_result"
    }
   ],
   "source": [
    "cypher = \"\"\"\n",
    "  MATCH (actor:Person)-[:DIRECTED]->(movie:Movie) \n",
    "  RETURN count(actor : Person) AS numberOfDirectors\n",
    "  \"\"\"\n",
    "kg.query(cypher)"
   ]
  },
  {
   "cell_type": "code",
   "execution_count": 17,
   "metadata": {},
   "outputs": [
    {
     "data": {
      "text/plain": [
       "[]"
      ]
     },
     "execution_count": 17,
     "metadata": {},
     "output_type": "execute_result"
    }
   ],
   "source": [
    "cypher = \"\"\"\n",
    "  MATCH (tom:Person {name:\"Person_5\"})-[:ACTED_IN]->(m)<-[:ACTED_IN]-(coActors) \n",
    "  RETURN coActors.name, m.title\n",
    "  \"\"\"\n",
    "kg.query(cypher)"
   ]
  },
  {
   "cell_type": "markdown",
   "metadata": {},
   "source": [
    "### Delete"
   ]
  },
  {
   "cell_type": "code",
   "execution_count": 21,
   "metadata": {},
   "outputs": [
    {
     "data": {
      "text/plain": [
       "[{'emil.name': 'Person_1', 'movie.title': 'Movie_28'},\n",
       " {'emil.name': 'Person_1', 'movie.title': 'Movie_90'}]"
      ]
     },
     "execution_count": 21,
     "metadata": {},
     "output_type": "execute_result"
    }
   ],
   "source": [
    "cypher = \"\"\"\n",
    "MATCH (emil:Person {name:\"Person_1\"})-[actedIn:ACTED_IN]->(movie:Movie)\n",
    "RETURN emil.name, movie.title\n",
    "\"\"\"\n",
    "kg.query(cypher)"
   ]
  },
  {
   "cell_type": "code",
   "execution_count": 22,
   "metadata": {},
   "outputs": [
    {
     "data": {
      "text/plain": [
       "[]"
      ]
     },
     "execution_count": 22,
     "metadata": {},
     "output_type": "execute_result"
    }
   ],
   "source": [
    "cypher = \"\"\"\n",
    "MATCH (emil:Person {name:\"Person_1\"})-[actedIn:ACTED_IN]->(movie:Movie)\n",
    "DELETE actedIn\n",
    "\"\"\"\n",
    "kg.query(cypher)"
   ]
  },
  {
   "cell_type": "markdown",
   "metadata": {},
   "source": [
    "### Add"
   ]
  },
  {
   "cell_type": "code",
   "execution_count": 23,
   "metadata": {},
   "outputs": [
    {
     "data": {
      "text/plain": [
       "[{'andreas': {'name': 'Person_88888'}}]"
      ]
     },
     "execution_count": 23,
     "metadata": {},
     "output_type": "execute_result"
    }
   ],
   "source": [
    "cypher = \"\"\"\n",
    "CREATE (andreas:Person {name:\"Person_88888\"})\n",
    "RETURN andreas\n",
    "\"\"\"\n",
    "\n",
    "kg.query(cypher)"
   ]
  },
  {
   "cell_type": "code",
   "execution_count": 24,
   "metadata": {},
   "outputs": [
    {
     "data": {
      "text/plain": [
       "[{'andreas': {'name': 'Person_88888'},\n",
       "  'hasRelationship': ({'name': 'Person_88888'},\n",
       "   'WORKS_WITH',\n",
       "   {'born': '1969-07-28', 'name': 'Person_10'}),\n",
       "  'emil': {'born': '1969-07-28', 'name': 'Person_10'}}]"
      ]
     },
     "execution_count": 24,
     "metadata": {},
     "output_type": "execute_result"
    }
   ],
   "source": [
    "cypher = \"\"\"\n",
    "MATCH (andreas:Person {name:\"Person_88888\"}), (emil:Person {name:\"Person_10\"})\n",
    "MERGE (andreas)-[hasRelationship:WORKS_WITH]->(emil)\n",
    "RETURN andreas, hasRelationship, emil\n",
    "\"\"\"\n",
    "kg.query(cypher)"
   ]
  },
  {
   "cell_type": "markdown",
   "metadata": {},
   "source": [
    "### Prepare Text Data for RAG"
   ]
  },
  {
   "cell_type": "code",
   "execution_count": 29,
   "metadata": {},
   "outputs": [
    {
     "data": {
      "text/plain": [
       "[]"
      ]
     },
     "execution_count": 29,
     "metadata": {},
     "output_type": "execute_result"
    }
   ],
   "source": [
    "kg.query(\"\"\"\n",
    "  CREATE VECTOR INDEX movie_tagline_embeddings IF NOT EXISTS\n",
    "  FOR (m:Movie) ON (m.taglineEmbedding) \n",
    "  OPTIONS { indexConfig: {\n",
    "    `vector.dimensions`: 768,\n",
    "    `vector.similarity_function`: 'cosine'\n",
    "  }}\"\"\"\n",
    ")\n"
   ]
  },
  {
   "cell_type": "code",
   "execution_count": 30,
   "metadata": {},
   "outputs": [
    {
     "data": {
      "text/plain": [
       "[{'id': 3,\n",
       "  'name': 'movie_tagline_embeddings',\n",
       "  'state': 'ONLINE',\n",
       "  'populationPercent': 100.0,\n",
       "  'type': 'VECTOR',\n",
       "  'entityType': 'NODE',\n",
       "  'labelsOrTypes': ['Movie'],\n",
       "  'properties': ['taglineEmbedding'],\n",
       "  'indexProvider': 'vector-2.0',\n",
       "  'owningConstraint': None,\n",
       "  'lastRead': None,\n",
       "  'readCount': 0}]"
      ]
     },
     "execution_count": 30,
     "metadata": {},
     "output_type": "execute_result"
    }
   ],
   "source": [
    "kg.query(\"\"\"\n",
    "  SHOW VECTOR INDEXES\n",
    "  \"\"\"\n",
    ")"
   ]
  },
  {
   "cell_type": "code",
   "execution_count": 31,
   "metadata": {},
   "outputs": [],
   "source": [
    "import google.generativeai as genai\n",
    "genai.configure(api_key=os.getenv(\"GOOGLE_API_KEY\"))\n"
   ]
  },
  {
   "cell_type": "code",
   "execution_count": null,
   "metadata": {},
   "outputs": [],
   "source": [
    "kg.query(\"\"\"\n",
    "    MATCH (movie:Movie) WHERE movie.tagline IS NOT NULL\n",
    "    WITH movie, genai.vector.encode(\n",
    "        movie.tagline, \n",
    "        \"OpenAI\", \n",
    "        {\n",
    "          token: $openAiApiKey,\n",
    "          endpoint: $openAiEndpoint\n",
    "        }) AS vector\n",
    "    CALL db.create.setNodeVectorProperty(movie, \"taglineEmbedding\", vector)\n",
    "    \"\"\", \n",
    "    params={\"openAiApiKey\":OPENAI_API_KEY, \"openAiEndpoint\": OPENAI_ENDPOINT} )"
   ]
  },
  {
   "cell_type": "code",
   "execution_count": null,
   "metadata": {},
   "outputs": [],
   "source": [
    "question = \"What movies are about love?\""
   ]
  },
  {
   "cell_type": "code",
   "execution_count": null,
   "metadata": {},
   "outputs": [],
   "source": [
    "kg.query(\"\"\"\n",
    "    WITH genai.vector.encode(\n",
    "        $question, \n",
    "        \"OpenAI\", \n",
    "        {\n",
    "          token: $openAiApiKey,\n",
    "          endpoint: $openAiEndpoint\n",
    "        }) AS question_embedding\n",
    "    CALL db.index.vector.queryNodes(\n",
    "        'movie_tagline_embeddings', \n",
    "        $top_k, \n",
    "        question_embedding\n",
    "        ) YIELD node AS movie, score\n",
    "    RETURN movie.title, movie.tagline, score\n",
    "    \"\"\", \n",
    "    params={\"openAiApiKey\":OPENAI_API_KEY,\n",
    "            \"openAiEndpoint\": OPENAI_ENDPOINT,\n",
    "            \"question\": question,\n",
    "            \"top_k\": 5\n",
    "            })"
   ]
  },
  {
   "cell_type": "code",
   "execution_count": null,
   "metadata": {},
   "outputs": [],
   "source": []
  },
  {
   "cell_type": "code",
   "execution_count": null,
   "metadata": {},
   "outputs": [],
   "source": []
  }
 ],
 "metadata": {
  "kernelspec": {
   "display_name": "langchain-env",
   "language": "python",
   "name": "python3"
  },
  "language_info": {
   "codemirror_mode": {
    "name": "ipython",
    "version": 3
   },
   "file_extension": ".py",
   "mimetype": "text/x-python",
   "name": "python",
   "nbconvert_exporter": "python",
   "pygments_lexer": "ipython3",
   "version": "3.11.10"
  }
 },
 "nbformat": 4,
 "nbformat_minor": 2
}
